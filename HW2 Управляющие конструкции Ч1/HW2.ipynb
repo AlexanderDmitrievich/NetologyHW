{
 "cells": [
  {
   "cell_type": "markdown",
   "metadata": {},
   "source": [
    "# Task1"
   ]
  },
  {
   "cell_type": "code",
   "execution_count": 3,
   "metadata": {},
   "outputs": [
    {
     "name": "stdout",
     "output_type": "stream",
     "text": [
      "h\n"
     ]
    }
   ],
   "source": [
    "word = 'testshsrkst'\n",
    "\n",
    "if len(word) % 2 == 0: \n",
    "    print (word[int(len(word) / 2-1)], word[int(len(word) / 2)])\n",
    "else:\n",
    "    print (word[int(len(word) / 2)])"
   ]
  },
  {
   "cell_type": "markdown",
   "metadata": {},
   "source": [
    "# Task2"
   ]
  },
  {
   "cell_type": "code",
   "execution_count": 40,
   "metadata": {},
   "outputs": [
    {
     "name": "stdout",
     "output_type": "stream",
     "text": [
      "Введите число5\n",
      "Введите число9\n",
      "Введите число0\n",
      "14\n"
     ]
    }
   ],
   "source": [
    "x = int(input('Введите число'))\n",
    "summ = 0\n",
    "\n",
    "while x != 0:\n",
    "    summ += x\n",
    "    x = int(input('Введите число'))\n",
    "print (summ)   "
   ]
  },
  {
   "cell_type": "markdown",
   "metadata": {},
   "source": [
    "# Task3\n"
   ]
  },
  {
   "cell_type": "code",
   "execution_count": null,
   "metadata": {},
   "outputs": [],
   "source": []
  }
 ],
 "metadata": {
  "kernelspec": {
   "display_name": "Python 3",
   "language": "python",
   "name": "python3"
  }
 },
 "nbformat": 4,
 "nbformat_minor": 4
}
