{
 "cells": [
  {
   "cell_type": "markdown",
   "metadata": {},
   "source": [
    "# Домашнее задание к лекции \"Поиск выбросов и генерация новых признаков\" обновленное\n",
    "\n",
    "Задачи:\n",
    "\n",
    "Взять датасет\n",
    "\n",
    "Провести EDA с упором на пропущенные значения и выбросы\n",
    "\n",
    "Обучить простую модель несколько раз (см. ниже) и сравнить качество.\n",
    "\n",
    "При обучении модели постепенно фильтровать выбросы и заполнять пропуски. При фильтрации выбросов и заполнении пропусков при необходимости обосновывать выбранные методы.\n",
    "\n",
    "Сгенерировать не менее новых 5 признаков (генерация с помощью PolynomialFeatures считать как один признак) и обучить модель после каждого добавления нового признака для контроля качества.\n",
    "\n",
    "Построить изменения качества график качества модели на каждом шаге (после обработки каждого признака и после каждого добавления нового признака)\n",
    "\n",
    "Используйте столбцы\n",
    "[‘full_sq’, ‘life_sq’, ‘floor’, ‘max_floor’, ‘material’, ‘build_year’, ‘num_room’, ‘kitch_sq’, ‘state’, ‘area_m’, ‘raion_popul’, ‘green_zone_part’, ‘indust_part’, ‘preschool_education_centers_raion’, ‘school_education_centers_raion’, ‘hospital_beds_raion’, ‘healthcare_centers_raion’, ‘sport_objects_raion’, ‘additional_education_raion’, ‘shopping_centers_raion’, ‘office_raion’, ‘ID_metro’, ‘metro_min_walk’, ‘kindergarten_km’, ‘school_km’, ‘park_km’, ‘green_zone_km’, ‘industrial_km’, ‘water_km’, ‘mkad_km’, ‘ttk_km’, ‘sadovoe_km’, ‘bulvar_ring_km’, ‘kremlin_km’, ‘ts_km’, ‘big_market_km’,‘market_shop_km’, ‘fitness_km’, ‘university_km’, ‘workplaces_km’, ‘shopping_centers_km’, ‘office_km’, ‘additional_education_raion’, ‘preschool_km’, ‘price_doc’"
   ]
  },
  {
   "cell_type": "code",
   "execution_count": 1,
   "metadata": {},
   "outputs": [],
   "source": [
    "%matplotlib inline\n",
    "import numpy as np\n",
    "from sklearn.covariance import EllipticEnvelope\n",
    "from sklearn.svm import OneClassSVM\n",
    "import matplotlib.pyplot as plt\n",
    "import matplotlib.font_manager\n",
    "from sklearn.datasets import load_wine\n",
    "from sklearn import svm\n",
    "import numpy as np\n",
    "from sklearn.ensemble import IsolationForest\n",
    "import pandas as pd\n",
    "from sklearn.cluster import DBSCAN\n",
    "from sklearn import metrics\n",
    "from sklearn.datasets import make_blobs\n",
    "from sklearn.preprocessing import StandardScaler\n",
    "import seaborn as sns\n",
    "import warnings"
   ]
  },
  {
   "cell_type": "code",
   "execution_count": 2,
   "metadata": {},
   "outputs": [
    {
     "data": {
      "text/html": [
       "<div>\n",
       "<style scoped>\n",
       "    .dataframe tbody tr th:only-of-type {\n",
       "        vertical-align: middle;\n",
       "    }\n",
       "\n",
       "    .dataframe tbody tr th {\n",
       "        vertical-align: top;\n",
       "    }\n",
       "\n",
       "    .dataframe thead th {\n",
       "        text-align: right;\n",
       "    }\n",
       "</style>\n",
       "<table border=\"1\" class=\"dataframe\">\n",
       "  <thead>\n",
       "    <tr style=\"text-align: right;\">\n",
       "      <th></th>\n",
       "      <th>full_sq</th>\n",
       "      <th>life_sq</th>\n",
       "      <th>floor</th>\n",
       "      <th>max_floor</th>\n",
       "      <th>material</th>\n",
       "      <th>build_year</th>\n",
       "      <th>num_room</th>\n",
       "      <th>kitch_sq</th>\n",
       "      <th>state</th>\n",
       "      <th>area_m</th>\n",
       "      <th>...</th>\n",
       "      <th>ts_km</th>\n",
       "      <th>big_market_km</th>\n",
       "      <th>market_shop_km</th>\n",
       "      <th>fitness_km</th>\n",
       "      <th>university_km</th>\n",
       "      <th>workplaces_km</th>\n",
       "      <th>shopping_centers_km</th>\n",
       "      <th>office_km</th>\n",
       "      <th>preschool_km</th>\n",
       "      <th>price_doc</th>\n",
       "    </tr>\n",
       "  </thead>\n",
       "  <tbody>\n",
       "    <tr>\n",
       "      <th>0</th>\n",
       "      <td>43</td>\n",
       "      <td>27.0</td>\n",
       "      <td>4.0</td>\n",
       "      <td>NaN</td>\n",
       "      <td>NaN</td>\n",
       "      <td>NaN</td>\n",
       "      <td>NaN</td>\n",
       "      <td>NaN</td>\n",
       "      <td>NaN</td>\n",
       "      <td>6.407578e+06</td>\n",
       "      <td>...</td>\n",
       "      <td>4.308127</td>\n",
       "      <td>10.814172</td>\n",
       "      <td>1.676258</td>\n",
       "      <td>0.485841</td>\n",
       "      <td>6.715026</td>\n",
       "      <td>0.884350</td>\n",
       "      <td>0.648488</td>\n",
       "      <td>0.637189</td>\n",
       "      <td>0.177975</td>\n",
       "      <td>5850000</td>\n",
       "    </tr>\n",
       "    <tr>\n",
       "      <th>1</th>\n",
       "      <td>34</td>\n",
       "      <td>19.0</td>\n",
       "      <td>3.0</td>\n",
       "      <td>NaN</td>\n",
       "      <td>NaN</td>\n",
       "      <td>NaN</td>\n",
       "      <td>NaN</td>\n",
       "      <td>NaN</td>\n",
       "      <td>NaN</td>\n",
       "      <td>9.589337e+06</td>\n",
       "      <td>...</td>\n",
       "      <td>0.725560</td>\n",
       "      <td>6.910568</td>\n",
       "      <td>3.424716</td>\n",
       "      <td>0.668364</td>\n",
       "      <td>1.852560</td>\n",
       "      <td>0.686252</td>\n",
       "      <td>0.519311</td>\n",
       "      <td>0.688796</td>\n",
       "      <td>0.273345</td>\n",
       "      <td>6000000</td>\n",
       "    </tr>\n",
       "    <tr>\n",
       "      <th>2</th>\n",
       "      <td>43</td>\n",
       "      <td>29.0</td>\n",
       "      <td>2.0</td>\n",
       "      <td>NaN</td>\n",
       "      <td>NaN</td>\n",
       "      <td>NaN</td>\n",
       "      <td>NaN</td>\n",
       "      <td>NaN</td>\n",
       "      <td>NaN</td>\n",
       "      <td>4.808270e+06</td>\n",
       "      <td>...</td>\n",
       "      <td>3.562188</td>\n",
       "      <td>5.752368</td>\n",
       "      <td>1.375443</td>\n",
       "      <td>0.733101</td>\n",
       "      <td>0.841254</td>\n",
       "      <td>1.510089</td>\n",
       "      <td>1.486533</td>\n",
       "      <td>1.543049</td>\n",
       "      <td>0.158072</td>\n",
       "      <td>5700000</td>\n",
       "    </tr>\n",
       "    <tr>\n",
       "      <th>3</th>\n",
       "      <td>89</td>\n",
       "      <td>50.0</td>\n",
       "      <td>9.0</td>\n",
       "      <td>NaN</td>\n",
       "      <td>NaN</td>\n",
       "      <td>NaN</td>\n",
       "      <td>NaN</td>\n",
       "      <td>NaN</td>\n",
       "      <td>NaN</td>\n",
       "      <td>1.258354e+07</td>\n",
       "      <td>...</td>\n",
       "      <td>0.583025</td>\n",
       "      <td>27.892717</td>\n",
       "      <td>0.811275</td>\n",
       "      <td>0.623484</td>\n",
       "      <td>10.903161</td>\n",
       "      <td>0.622272</td>\n",
       "      <td>0.599914</td>\n",
       "      <td>0.934273</td>\n",
       "      <td>0.236455</td>\n",
       "      <td>13100000</td>\n",
       "    </tr>\n",
       "    <tr>\n",
       "      <th>4</th>\n",
       "      <td>77</td>\n",
       "      <td>77.0</td>\n",
       "      <td>4.0</td>\n",
       "      <td>NaN</td>\n",
       "      <td>NaN</td>\n",
       "      <td>NaN</td>\n",
       "      <td>NaN</td>\n",
       "      <td>NaN</td>\n",
       "      <td>NaN</td>\n",
       "      <td>8.398461e+06</td>\n",
       "      <td>...</td>\n",
       "      <td>2.609420</td>\n",
       "      <td>9.155057</td>\n",
       "      <td>1.969738</td>\n",
       "      <td>0.220288</td>\n",
       "      <td>0.991683</td>\n",
       "      <td>0.892668</td>\n",
       "      <td>0.429052</td>\n",
       "      <td>0.077901</td>\n",
       "      <td>0.376838</td>\n",
       "      <td>16331452</td>\n",
       "    </tr>\n",
       "  </tbody>\n",
       "</table>\n",
       "<p>5 rows × 44 columns</p>\n",
       "</div>"
      ],
      "text/plain": [
       "   full_sq  life_sq  floor  max_floor  material  build_year  num_room  \\\n",
       "0       43     27.0    4.0        NaN       NaN         NaN       NaN   \n",
       "1       34     19.0    3.0        NaN       NaN         NaN       NaN   \n",
       "2       43     29.0    2.0        NaN       NaN         NaN       NaN   \n",
       "3       89     50.0    9.0        NaN       NaN         NaN       NaN   \n",
       "4       77     77.0    4.0        NaN       NaN         NaN       NaN   \n",
       "\n",
       "   kitch_sq  state        area_m  ...     ts_km  big_market_km  \\\n",
       "0       NaN    NaN  6.407578e+06  ...  4.308127      10.814172   \n",
       "1       NaN    NaN  9.589337e+06  ...  0.725560       6.910568   \n",
       "2       NaN    NaN  4.808270e+06  ...  3.562188       5.752368   \n",
       "3       NaN    NaN  1.258354e+07  ...  0.583025      27.892717   \n",
       "4       NaN    NaN  8.398461e+06  ...  2.609420       9.155057   \n",
       "\n",
       "   market_shop_km  fitness_km  university_km  workplaces_km  \\\n",
       "0        1.676258    0.485841       6.715026       0.884350   \n",
       "1        3.424716    0.668364       1.852560       0.686252   \n",
       "2        1.375443    0.733101       0.841254       1.510089   \n",
       "3        0.811275    0.623484      10.903161       0.622272   \n",
       "4        1.969738    0.220288       0.991683       0.892668   \n",
       "\n",
       "   shopping_centers_km  office_km  preschool_km  price_doc  \n",
       "0             0.648488   0.637189      0.177975    5850000  \n",
       "1             0.519311   0.688796      0.273345    6000000  \n",
       "2             1.486533   1.543049      0.158072    5700000  \n",
       "3             0.599914   0.934273      0.236455   13100000  \n",
       "4             0.429052   0.077901      0.376838   16331452  \n",
       "\n",
       "[5 rows x 44 columns]"
      ]
     },
     "execution_count": 2,
     "metadata": {},
     "output_type": "execute_result"
    }
   ],
   "source": [
    "data = pd.read_csv('C:/Users/User/Desktop/ФГУП НТЦ РХБГ 2022/Другое/Data Science 2022/HW/Python/ML/HW8/train.csv', usecols=['full_sq', 'life_sq', 'floor', 'max_floor', 'material', 'build_year', 'num_room', 'kitch_sq',\n",
    "'state', 'area_m', 'raion_popul', 'green_zone_part', 'indust_part', 'preschool_education_centers_raion',\n",
    "'school_education_centers_raion', 'hospital_beds_raion', 'healthcare_centers_raion', 'sport_objects_raion',\n",
    "'additional_education_raion', 'shopping_centers_raion', 'office_raion', 'ID_metro', 'metro_min_walk', 'kindergarten_km',\n",
    "'school_km', 'park_km', 'green_zone_km', 'industrial_km', 'water_km', 'mkad_km', 'ttk_km', 'sadovoe_km', 'bulvar_ring_km',\n",
    "'kremlin_km', 'ts_km', 'big_market_km','market_shop_km', 'fitness_km', 'university_km', 'workplaces_km', 'shopping_centers_km',\n",
    "'office_km', 'additional_education_raion', 'preschool_km', 'price_doc'])\n",
    "\n",
    "col = ['full_sq', 'life_sq', 'floor', 'max_floor', 'material', 'build_year', 'num_room', 'kitch_sq',\n",
    "'state', 'area_m', 'raion_popul', 'green_zone_part', 'indust_part', 'preschool_education_centers_raion',\n",
    "'school_education_centers_raion', 'hospital_beds_raion', 'healthcare_centers_raion', 'sport_objects_raion',\n",
    "'additional_education_raion', 'shopping_centers_raion', 'office_raion', 'ID_metro', 'metro_min_walk', 'kindergarten_km',\n",
    "'school_km', 'park_km', 'green_zone_km', 'industrial_km', 'water_km', 'mkad_km', 'ttk_km', 'sadovoe_km', 'bulvar_ring_km',\n",
    "'kremlin_km', 'ts_km', 'big_market_km','market_shop_km', 'fitness_km', 'university_km', 'workplaces_km', 'shopping_centers_km',\n",
    "'office_km', 'additional_education_raion', 'preschool_km']\n",
    "\n",
    "data.head()"
   ]
  },
  {
   "cell_type": "code",
   "execution_count": 3,
   "metadata": {},
   "outputs": [
    {
     "name": "stdout",
     "output_type": "stream",
     "text": [
      "<class 'pandas.core.frame.DataFrame'>\n",
      "RangeIndex: 30471 entries, 0 to 30470\n",
      "Data columns (total 44 columns):\n",
      " #   Column                             Non-Null Count  Dtype  \n",
      "---  ------                             --------------  -----  \n",
      " 0   full_sq                            30471 non-null  int64  \n",
      " 1   life_sq                            24088 non-null  float64\n",
      " 2   floor                              30304 non-null  float64\n",
      " 3   max_floor                          20899 non-null  float64\n",
      " 4   material                           20899 non-null  float64\n",
      " 5   build_year                         16866 non-null  float64\n",
      " 6   num_room                           20899 non-null  float64\n",
      " 7   kitch_sq                           20899 non-null  float64\n",
      " 8   state                              16912 non-null  float64\n",
      " 9   area_m                             30471 non-null  float64\n",
      " 10  raion_popul                        30471 non-null  int64  \n",
      " 11  green_zone_part                    30471 non-null  float64\n",
      " 12  indust_part                        30471 non-null  float64\n",
      " 13  preschool_education_centers_raion  30471 non-null  int64  \n",
      " 14  school_education_centers_raion     30471 non-null  int64  \n",
      " 15  hospital_beds_raion                16030 non-null  float64\n",
      " 16  healthcare_centers_raion           30471 non-null  int64  \n",
      " 17  sport_objects_raion                30471 non-null  int64  \n",
      " 18  additional_education_raion         30471 non-null  int64  \n",
      " 19  shopping_centers_raion             30471 non-null  int64  \n",
      " 20  office_raion                       30471 non-null  int64  \n",
      " 21  ID_metro                           30471 non-null  int64  \n",
      " 22  metro_min_walk                     30446 non-null  float64\n",
      " 23  kindergarten_km                    30471 non-null  float64\n",
      " 24  school_km                          30471 non-null  float64\n",
      " 25  park_km                            30471 non-null  float64\n",
      " 26  green_zone_km                      30471 non-null  float64\n",
      " 27  industrial_km                      30471 non-null  float64\n",
      " 28  water_km                           30471 non-null  float64\n",
      " 29  mkad_km                            30471 non-null  float64\n",
      " 30  ttk_km                             30471 non-null  float64\n",
      " 31  sadovoe_km                         30471 non-null  float64\n",
      " 32  bulvar_ring_km                     30471 non-null  float64\n",
      " 33  kremlin_km                         30471 non-null  float64\n",
      " 34  ts_km                              30471 non-null  float64\n",
      " 35  big_market_km                      30471 non-null  float64\n",
      " 36  market_shop_km                     30471 non-null  float64\n",
      " 37  fitness_km                         30471 non-null  float64\n",
      " 38  university_km                      30471 non-null  float64\n",
      " 39  workplaces_km                      30471 non-null  float64\n",
      " 40  shopping_centers_km                30471 non-null  float64\n",
      " 41  office_km                          30471 non-null  float64\n",
      " 42  preschool_km                       30471 non-null  float64\n",
      " 43  price_doc                          30471 non-null  int64  \n",
      "dtypes: float64(33), int64(11)\n",
      "memory usage: 10.2 MB\n"
     ]
    }
   ],
   "source": [
    "data.info()"
   ]
  },
  {
   "cell_type": "code",
   "execution_count": 4,
   "metadata": {},
   "outputs": [
    {
     "data": {
      "text/plain": [
       "19.0     2138\n",
       "30.0     1565\n",
       "18.0     1544\n",
       "20.0     1208\n",
       "28.0     1067\n",
       "         ... \n",
       "143.0       1\n",
       "145.0       1\n",
       "435.0       1\n",
       "157.0       1\n",
       "458.0       1\n",
       "Name: life_sq, Length: 175, dtype: int64"
      ]
     },
     "execution_count": 4,
     "metadata": {},
     "output_type": "execute_result"
    }
   ],
   "source": [
    "data['life_sq'].value_counts()"
   ]
  },
  {
   "cell_type": "code",
   "execution_count": 5,
   "metadata": {},
   "outputs": [
    {
     "data": {
      "text/plain": [
       "0    19.0\n",
       "dtype: float64"
      ]
     },
     "execution_count": 5,
     "metadata": {},
     "output_type": "execute_result"
    }
   ],
   "source": [
    "data['life_sq'].mode()"
   ]
  },
  {
   "cell_type": "code",
   "execution_count": 6,
   "metadata": {},
   "outputs": [],
   "source": [
    "data['life_sq'] = data['life_sq'].fillna(data['life_sq'].mode())"
   ]
  },
  {
   "cell_type": "code",
   "execution_count": 7,
   "metadata": {},
   "outputs": [
    {
     "data": {
      "text/plain": [
       "3.0     3028\n",
       "2.0     2874\n",
       "5.0     2752\n",
       "4.0     2609\n",
       "1.0     2002\n",
       "7.0     1966\n",
       "6.0     1878\n",
       "9.0     1843\n",
       "8.0     1830\n",
       "12.0    1341\n",
       "10.0    1307\n",
       "11.0    1262\n",
       "14.0    1001\n",
       "13.0     918\n",
       "16.0     811\n",
       "17.0     795\n",
       "15.0     747\n",
       "18.0     231\n",
       "19.0     212\n",
       "20.0     180\n",
       "22.0     173\n",
       "21.0     138\n",
       "23.0     125\n",
       "25.0     104\n",
       "24.0     100\n",
       "32.0      14\n",
       "26.0      14\n",
       "0.0        9\n",
       "27.0       7\n",
       "28.0       6\n",
       "30.0       6\n",
       "31.0       5\n",
       "29.0       3\n",
       "34.0       3\n",
       "36.0       2\n",
       "37.0       2\n",
       "44.0       2\n",
       "41.0       1\n",
       "38.0       1\n",
       "77.0       1\n",
       "33.0       1\n",
       "Name: floor, dtype: int64"
      ]
     },
     "execution_count": 7,
     "metadata": {},
     "output_type": "execute_result"
    }
   ],
   "source": [
    "data['floor'].value_counts()"
   ]
  },
  {
   "cell_type": "code",
   "execution_count": 8,
   "metadata": {},
   "outputs": [
    {
     "data": {
      "text/plain": [
       "0    3.0\n",
       "dtype: float64"
      ]
     },
     "execution_count": 8,
     "metadata": {},
     "output_type": "execute_result"
    }
   ],
   "source": [
    "data['floor'].mode()"
   ]
  },
  {
   "cell_type": "code",
   "execution_count": 9,
   "metadata": {},
   "outputs": [],
   "source": [
    "data['floor'] = data['floor'].fillna(data['floor'].mode())"
   ]
  },
  {
   "cell_type": "code",
   "execution_count": 10,
   "metadata": {},
   "outputs": [
    {
     "data": {
      "text/plain": [
       "17.0     4672\n",
       "9.0      3025\n",
       "5.0      2267\n",
       "12.0     2229\n",
       "14.0     1362\n",
       "16.0     1146\n",
       "1.0       973\n",
       "22.0      745\n",
       "25.0      735\n",
       "0.0       550\n",
       "24.0      396\n",
       "8.0       307\n",
       "10.0      284\n",
       "3.0       278\n",
       "4.0       278\n",
       "15.0      239\n",
       "19.0      220\n",
       "20.0      204\n",
       "18.0      195\n",
       "6.0       148\n",
       "7.0       116\n",
       "2.0       100\n",
       "23.0       94\n",
       "21.0       57\n",
       "13.0       56\n",
       "11.0       54\n",
       "30.0       42\n",
       "40.0       25\n",
       "32.0       17\n",
       "27.0       17\n",
       "28.0       10\n",
       "26.0       10\n",
       "37.0        7\n",
       "48.0        7\n",
       "29.0        6\n",
       "39.0        4\n",
       "99.0        3\n",
       "31.0        3\n",
       "34.0        3\n",
       "33.0        3\n",
       "36.0        2\n",
       "47.0        2\n",
       "45.0        2\n",
       "117.0       1\n",
       "41.0        1\n",
       "44.0        1\n",
       "57.0        1\n",
       "38.0        1\n",
       "42.0        1\n",
       "Name: max_floor, dtype: int64"
      ]
     },
     "execution_count": 10,
     "metadata": {},
     "output_type": "execute_result"
    }
   ],
   "source": [
    "data['max_floor'].value_counts()"
   ]
  },
  {
   "cell_type": "code",
   "execution_count": 11,
   "metadata": {},
   "outputs": [
    {
     "data": {
      "text/plain": [
       "12.558974113593951"
      ]
     },
     "execution_count": 11,
     "metadata": {},
     "output_type": "execute_result"
    }
   ],
   "source": [
    "data['max_floor'].mean()"
   ]
  },
  {
   "cell_type": "code",
   "execution_count": 12,
   "metadata": {},
   "outputs": [],
   "source": [
    "data['max_floor'] = data['max_floor'].fillna(round(data['max_floor'].mode()))"
   ]
  },
  {
   "cell_type": "code",
   "execution_count": 13,
   "metadata": {},
   "outputs": [
    {
     "data": {
      "text/plain": [
       "array([nan,  1.,  2.,  4.,  6.,  5.,  3.])"
      ]
     },
     "execution_count": 13,
     "metadata": {},
     "output_type": "execute_result"
    }
   ],
   "source": [
    "data['material'].unique()"
   ]
  },
  {
   "cell_type": "code",
   "execution_count": 14,
   "metadata": {},
   "outputs": [
    {
     "data": {
      "text/plain": [
       "1.0    14197\n",
       "2.0     2993\n",
       "5.0     1561\n",
       "4.0     1344\n",
       "6.0      803\n",
       "3.0        1\n",
       "Name: material, dtype: int64"
      ]
     },
     "execution_count": 14,
     "metadata": {},
     "output_type": "execute_result"
    }
   ],
   "source": [
    "data['material'].value_counts()"
   ]
  },
  {
   "cell_type": "code",
   "execution_count": 15,
   "metadata": {},
   "outputs": [],
   "source": [
    "data['material'] = data['material'].fillna(data['material'].mode())"
   ]
  },
  {
   "cell_type": "code",
   "execution_count": 16,
   "metadata": {},
   "outputs": [
    {
     "data": {
      "text/plain": [
       "2014.0    919\n",
       "2015.0    824\n",
       "0.0       530\n",
       "2013.0    464\n",
       "1970.0    418\n",
       "         ... \n",
       "1948.0      1\n",
       "1904.0      1\n",
       "71.0        1\n",
       "20.0        1\n",
       "1876.0      1\n",
       "Name: build_year, Length: 119, dtype: int64"
      ]
     },
     "execution_count": 16,
     "metadata": {},
     "output_type": "execute_result"
    }
   ],
   "source": [
    "data['build_year'].value_counts()"
   ]
  },
  {
   "cell_type": "code",
   "execution_count": 17,
   "metadata": {},
   "outputs": [],
   "source": [
    "data.loc[((data['build_year'] >= 0) & (data['build_year'] < 1900 )), 'build_year'] = None\n",
    "data.loc[(data['build_year'] > 2022), 'build_year'] = None"
   ]
  },
  {
   "cell_type": "code",
   "execution_count": 18,
   "metadata": {},
   "outputs": [
    {
     "data": {
      "text/plain": [
       "2014.0    919\n",
       "2015.0    824\n",
       "2013.0    464\n",
       "1970.0    418\n",
       "1969.0    407\n",
       "         ... \n",
       "1948.0      1\n",
       "1906.0      1\n",
       "1904.0      1\n",
       "1925.0      1\n",
       "1911.0      1\n",
       "Name: build_year, Length: 104, dtype: int64"
      ]
     },
     "execution_count": 18,
     "metadata": {},
     "output_type": "execute_result"
    }
   ],
   "source": [
    "data['build_year'].value_counts()"
   ]
  },
  {
   "cell_type": "code",
   "execution_count": 19,
   "metadata": {},
   "outputs": [
    {
     "data": {
      "text/plain": [
       "1985.4456358164034"
      ]
     },
     "execution_count": 19,
     "metadata": {},
     "output_type": "execute_result"
    }
   ],
   "source": [
    "data['build_year'].mean()"
   ]
  },
  {
   "cell_type": "code",
   "execution_count": 20,
   "metadata": {},
   "outputs": [
    {
     "data": {
      "text/plain": [
       "array([  nan, 1907., 1980., 2014., 1970., 1982., 2013., 2004., 2003.,\n",
       "       1957., 1986., 1960., 1995., 1979., 1975., 1987., 1962., 1969.,\n",
       "       1993., 1996., 1972., 2011., 1965., 2010., 1985., 2006., 1961.,\n",
       "       1971., 1978., 1966., 1967., 2000., 1964., 1977., 1983., 1968.,\n",
       "       1974., 2008., 1959., 2007., 1984., 1976., 1997., 1989., 1958.,\n",
       "       1988., 2012., 1990., 1946., 1917., 2002., 2005., 2001., 1963.,\n",
       "       1954., 1951., 1981., 1955., 1999., 2009., 1973., 1994., 1998.,\n",
       "       1992., 1950., 1956., 2015., 1932., 1937., 1938., 1939., 1991.,\n",
       "       1934., 1935., 1947., 1953., 1933., 2016., 1930., 1912., 1929.,\n",
       "       1928., 1915., 1936., 1925., 1940., 1943., 1927., 1911., 1924.,\n",
       "       1952., 2017., 1926., 1931., 1949., 1914., 1910., 1948., 1900.,\n",
       "       1920., 1904., 1906., 1941., 1905., 2018.])"
      ]
     },
     "execution_count": 20,
     "metadata": {},
     "output_type": "execute_result"
    }
   ],
   "source": [
    "data['build_year'].unique()"
   ]
  },
  {
   "cell_type": "code",
   "execution_count": 21,
   "metadata": {},
   "outputs": [],
   "source": [
    "data['build_year'] = data['build_year'].fillna(round(data['build_year'].mean()))"
   ]
  },
  {
   "cell_type": "code",
   "execution_count": 22,
   "metadata": {},
   "outputs": [
    {
     "data": {
      "text/plain": [
       "2.0     8132\n",
       "1.0     7602\n",
       "3.0     4675\n",
       "4.0      418\n",
       "5.0       40\n",
       "0.0       14\n",
       "6.0        9\n",
       "8.0        3\n",
       "10.0       2\n",
       "7.0        1\n",
       "19.0       1\n",
       "9.0        1\n",
       "17.0       1\n",
       "Name: num_room, dtype: int64"
      ]
     },
     "execution_count": 22,
     "metadata": {},
     "output_type": "execute_result"
    }
   ],
   "source": [
    "data['num_room'].value_counts()"
   ]
  },
  {
   "cell_type": "code",
   "execution_count": 23,
   "metadata": {},
   "outputs": [
    {
     "data": {
      "text/plain": [
       "array([nan,  2.,  1.,  3.,  4.,  5.,  6.,  0., 19., 10.,  8.,  7., 17.,\n",
       "        9.])"
      ]
     },
     "execution_count": 23,
     "metadata": {},
     "output_type": "execute_result"
    }
   ],
   "source": [
    "data['num_room'].unique()"
   ]
  },
  {
   "cell_type": "code",
   "execution_count": 24,
   "metadata": {},
   "outputs": [],
   "source": [
    "data.loc[((data['num_room'] < 0) & (data['num_room'] > 17 )), 'num_room'] = None"
   ]
  },
  {
   "cell_type": "code",
   "execution_count": 25,
   "metadata": {},
   "outputs": [],
   "source": [
    "data['num_room'] = data['num_room'].fillna(data['num_room'].mode())"
   ]
  },
  {
   "cell_type": "code",
   "execution_count": 26,
   "metadata": {},
   "outputs": [
    {
     "name": "stdout",
     "output_type": "stream",
     "text": [
      "<class 'pandas.core.frame.DataFrame'>\n",
      "RangeIndex: 30471 entries, 0 to 30470\n",
      "Data columns (total 44 columns):\n",
      " #   Column                             Non-Null Count  Dtype  \n",
      "---  ------                             --------------  -----  \n",
      " 0   full_sq                            30471 non-null  int64  \n",
      " 1   life_sq                            24088 non-null  float64\n",
      " 2   floor                              30304 non-null  float64\n",
      " 3   max_floor                          20900 non-null  float64\n",
      " 4   material                           20900 non-null  float64\n",
      " 5   build_year                         30471 non-null  float64\n",
      " 6   num_room                           20900 non-null  float64\n",
      " 7   kitch_sq                           20899 non-null  float64\n",
      " 8   state                              16912 non-null  float64\n",
      " 9   area_m                             30471 non-null  float64\n",
      " 10  raion_popul                        30471 non-null  int64  \n",
      " 11  green_zone_part                    30471 non-null  float64\n",
      " 12  indust_part                        30471 non-null  float64\n",
      " 13  preschool_education_centers_raion  30471 non-null  int64  \n",
      " 14  school_education_centers_raion     30471 non-null  int64  \n",
      " 15  hospital_beds_raion                16030 non-null  float64\n",
      " 16  healthcare_centers_raion           30471 non-null  int64  \n",
      " 17  sport_objects_raion                30471 non-null  int64  \n",
      " 18  additional_education_raion         30471 non-null  int64  \n",
      " 19  shopping_centers_raion             30471 non-null  int64  \n",
      " 20  office_raion                       30471 non-null  int64  \n",
      " 21  ID_metro                           30471 non-null  int64  \n",
      " 22  metro_min_walk                     30446 non-null  float64\n",
      " 23  kindergarten_km                    30471 non-null  float64\n",
      " 24  school_km                          30471 non-null  float64\n",
      " 25  park_km                            30471 non-null  float64\n",
      " 26  green_zone_km                      30471 non-null  float64\n",
      " 27  industrial_km                      30471 non-null  float64\n",
      " 28  water_km                           30471 non-null  float64\n",
      " 29  mkad_km                            30471 non-null  float64\n",
      " 30  ttk_km                             30471 non-null  float64\n",
      " 31  sadovoe_km                         30471 non-null  float64\n",
      " 32  bulvar_ring_km                     30471 non-null  float64\n",
      " 33  kremlin_km                         30471 non-null  float64\n",
      " 34  ts_km                              30471 non-null  float64\n",
      " 35  big_market_km                      30471 non-null  float64\n",
      " 36  market_shop_km                     30471 non-null  float64\n",
      " 37  fitness_km                         30471 non-null  float64\n",
      " 38  university_km                      30471 non-null  float64\n",
      " 39  workplaces_km                      30471 non-null  float64\n",
      " 40  shopping_centers_km                30471 non-null  float64\n",
      " 41  office_km                          30471 non-null  float64\n",
      " 42  preschool_km                       30471 non-null  float64\n",
      " 43  price_doc                          30471 non-null  int64  \n",
      "dtypes: float64(33), int64(11)\n",
      "memory usage: 10.2 MB\n"
     ]
    }
   ],
   "source": [
    "data.info()"
   ]
  },
  {
   "cell_type": "code",
   "execution_count": 27,
   "metadata": {},
   "outputs": [
    {
     "data": {
      "text/html": [
       "<div>\n",
       "<style scoped>\n",
       "    .dataframe tbody tr th:only-of-type {\n",
       "        vertical-align: middle;\n",
       "    }\n",
       "\n",
       "    .dataframe tbody tr th {\n",
       "        vertical-align: top;\n",
       "    }\n",
       "\n",
       "    .dataframe thead th {\n",
       "        text-align: right;\n",
       "    }\n",
       "</style>\n",
       "<table border=\"1\" class=\"dataframe\">\n",
       "  <thead>\n",
       "    <tr style=\"text-align: right;\">\n",
       "      <th></th>\n",
       "      <th>full_sq</th>\n",
       "      <th>life_sq</th>\n",
       "      <th>floor</th>\n",
       "      <th>max_floor</th>\n",
       "      <th>material</th>\n",
       "      <th>build_year</th>\n",
       "      <th>num_room</th>\n",
       "      <th>kitch_sq</th>\n",
       "      <th>state</th>\n",
       "      <th>area_m</th>\n",
       "      <th>...</th>\n",
       "      <th>ts_km</th>\n",
       "      <th>big_market_km</th>\n",
       "      <th>market_shop_km</th>\n",
       "      <th>fitness_km</th>\n",
       "      <th>university_km</th>\n",
       "      <th>workplaces_km</th>\n",
       "      <th>shopping_centers_km</th>\n",
       "      <th>office_km</th>\n",
       "      <th>preschool_km</th>\n",
       "      <th>price_doc</th>\n",
       "    </tr>\n",
       "  </thead>\n",
       "  <tbody>\n",
       "    <tr>\n",
       "      <th>0</th>\n",
       "      <td>43</td>\n",
       "      <td>27.0</td>\n",
       "      <td>4.0</td>\n",
       "      <td>17.0</td>\n",
       "      <td>1.0</td>\n",
       "      <td>1985.0</td>\n",
       "      <td>2.0</td>\n",
       "      <td>NaN</td>\n",
       "      <td>NaN</td>\n",
       "      <td>6.407578e+06</td>\n",
       "      <td>...</td>\n",
       "      <td>4.308127</td>\n",
       "      <td>10.814172</td>\n",
       "      <td>1.676258</td>\n",
       "      <td>0.485841</td>\n",
       "      <td>6.715026</td>\n",
       "      <td>0.884350</td>\n",
       "      <td>0.648488</td>\n",
       "      <td>0.637189</td>\n",
       "      <td>0.177975</td>\n",
       "      <td>5850000</td>\n",
       "    </tr>\n",
       "    <tr>\n",
       "      <th>1</th>\n",
       "      <td>34</td>\n",
       "      <td>19.0</td>\n",
       "      <td>3.0</td>\n",
       "      <td>NaN</td>\n",
       "      <td>NaN</td>\n",
       "      <td>1985.0</td>\n",
       "      <td>NaN</td>\n",
       "      <td>NaN</td>\n",
       "      <td>NaN</td>\n",
       "      <td>9.589337e+06</td>\n",
       "      <td>...</td>\n",
       "      <td>0.725560</td>\n",
       "      <td>6.910568</td>\n",
       "      <td>3.424716</td>\n",
       "      <td>0.668364</td>\n",
       "      <td>1.852560</td>\n",
       "      <td>0.686252</td>\n",
       "      <td>0.519311</td>\n",
       "      <td>0.688796</td>\n",
       "      <td>0.273345</td>\n",
       "      <td>6000000</td>\n",
       "    </tr>\n",
       "    <tr>\n",
       "      <th>2</th>\n",
       "      <td>43</td>\n",
       "      <td>29.0</td>\n",
       "      <td>2.0</td>\n",
       "      <td>NaN</td>\n",
       "      <td>NaN</td>\n",
       "      <td>1985.0</td>\n",
       "      <td>NaN</td>\n",
       "      <td>NaN</td>\n",
       "      <td>NaN</td>\n",
       "      <td>4.808270e+06</td>\n",
       "      <td>...</td>\n",
       "      <td>3.562188</td>\n",
       "      <td>5.752368</td>\n",
       "      <td>1.375443</td>\n",
       "      <td>0.733101</td>\n",
       "      <td>0.841254</td>\n",
       "      <td>1.510089</td>\n",
       "      <td>1.486533</td>\n",
       "      <td>1.543049</td>\n",
       "      <td>0.158072</td>\n",
       "      <td>5700000</td>\n",
       "    </tr>\n",
       "    <tr>\n",
       "      <th>3</th>\n",
       "      <td>89</td>\n",
       "      <td>50.0</td>\n",
       "      <td>9.0</td>\n",
       "      <td>NaN</td>\n",
       "      <td>NaN</td>\n",
       "      <td>1985.0</td>\n",
       "      <td>NaN</td>\n",
       "      <td>NaN</td>\n",
       "      <td>NaN</td>\n",
       "      <td>1.258354e+07</td>\n",
       "      <td>...</td>\n",
       "      <td>0.583025</td>\n",
       "      <td>27.892717</td>\n",
       "      <td>0.811275</td>\n",
       "      <td>0.623484</td>\n",
       "      <td>10.903161</td>\n",
       "      <td>0.622272</td>\n",
       "      <td>0.599914</td>\n",
       "      <td>0.934273</td>\n",
       "      <td>0.236455</td>\n",
       "      <td>13100000</td>\n",
       "    </tr>\n",
       "    <tr>\n",
       "      <th>4</th>\n",
       "      <td>77</td>\n",
       "      <td>77.0</td>\n",
       "      <td>4.0</td>\n",
       "      <td>NaN</td>\n",
       "      <td>NaN</td>\n",
       "      <td>1985.0</td>\n",
       "      <td>NaN</td>\n",
       "      <td>NaN</td>\n",
       "      <td>NaN</td>\n",
       "      <td>8.398461e+06</td>\n",
       "      <td>...</td>\n",
       "      <td>2.609420</td>\n",
       "      <td>9.155057</td>\n",
       "      <td>1.969738</td>\n",
       "      <td>0.220288</td>\n",
       "      <td>0.991683</td>\n",
       "      <td>0.892668</td>\n",
       "      <td>0.429052</td>\n",
       "      <td>0.077901</td>\n",
       "      <td>0.376838</td>\n",
       "      <td>16331452</td>\n",
       "    </tr>\n",
       "  </tbody>\n",
       "</table>\n",
       "<p>5 rows × 44 columns</p>\n",
       "</div>"
      ],
      "text/plain": [
       "   full_sq  life_sq  floor  max_floor  material  build_year  num_room  \\\n",
       "0       43     27.0    4.0       17.0       1.0      1985.0       2.0   \n",
       "1       34     19.0    3.0        NaN       NaN      1985.0       NaN   \n",
       "2       43     29.0    2.0        NaN       NaN      1985.0       NaN   \n",
       "3       89     50.0    9.0        NaN       NaN      1985.0       NaN   \n",
       "4       77     77.0    4.0        NaN       NaN      1985.0       NaN   \n",
       "\n",
       "   kitch_sq  state        area_m  ...     ts_km  big_market_km  \\\n",
       "0       NaN    NaN  6.407578e+06  ...  4.308127      10.814172   \n",
       "1       NaN    NaN  9.589337e+06  ...  0.725560       6.910568   \n",
       "2       NaN    NaN  4.808270e+06  ...  3.562188       5.752368   \n",
       "3       NaN    NaN  1.258354e+07  ...  0.583025      27.892717   \n",
       "4       NaN    NaN  8.398461e+06  ...  2.609420       9.155057   \n",
       "\n",
       "   market_shop_km  fitness_km  university_km  workplaces_km  \\\n",
       "0        1.676258    0.485841       6.715026       0.884350   \n",
       "1        3.424716    0.668364       1.852560       0.686252   \n",
       "2        1.375443    0.733101       0.841254       1.510089   \n",
       "3        0.811275    0.623484      10.903161       0.622272   \n",
       "4        1.969738    0.220288       0.991683       0.892668   \n",
       "\n",
       "   shopping_centers_km  office_km  preschool_km  price_doc  \n",
       "0             0.648488   0.637189      0.177975    5850000  \n",
       "1             0.519311   0.688796      0.273345    6000000  \n",
       "2             1.486533   1.543049      0.158072    5700000  \n",
       "3             0.599914   0.934273      0.236455   13100000  \n",
       "4             0.429052   0.077901      0.376838   16331452  \n",
       "\n",
       "[5 rows x 44 columns]"
      ]
     },
     "execution_count": 27,
     "metadata": {},
     "output_type": "execute_result"
    }
   ],
   "source": [
    "data.head()"
   ]
  },
  {
   "cell_type": "code",
   "execution_count": 28,
   "metadata": {},
   "outputs": [
    {
     "data": {
      "text/plain": [
       "1.0     4854\n",
       "8.0     2678\n",
       "5.0     2594\n",
       "6.0     2298\n",
       "10.0    2241\n",
       "        ... \n",
       "26.0       1\n",
       "44.0       1\n",
       "36.0       1\n",
       "65.0       1\n",
       "78.0       1\n",
       "Name: kitch_sq, Length: 74, dtype: int64"
      ]
     },
     "execution_count": 28,
     "metadata": {},
     "output_type": "execute_result"
    }
   ],
   "source": [
    "data['kitch_sq'].value_counts()"
   ]
  },
  {
   "cell_type": "code",
   "execution_count": null,
   "metadata": {},
   "outputs": [],
   "source": []
  }
 ],
 "metadata": {
  "kernelspec": {
   "display_name": "Python 3",
   "language": "python",
   "name": "python3"
  },
  "language_info": {
   "codemirror_mode": {
    "name": "ipython",
    "version": 3
   },
   "file_extension": ".py",
   "mimetype": "text/x-python",
   "name": "python",
   "nbconvert_exporter": "python",
   "pygments_lexer": "ipython3",
   "version": "3.8.5"
  }
 },
 "nbformat": 4,
 "nbformat_minor": 4
}
