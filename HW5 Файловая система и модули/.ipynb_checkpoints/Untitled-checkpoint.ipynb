{
 "cells": [
  {
   "cell_type": "markdown",
   "metadata": {},
   "source": [
    "# Task1"
   ]
  },
  {
   "cell_type": "code",
   "execution_count": 4,
   "metadata": {},
   "outputs": [],
   "source": [
    "import json"
   ]
  },
  {
   "cell_type": "code",
   "execution_count": 3,
   "metadata": {},
   "outputs": [],
   "source": [
    "purchases = {}\n",
    "\n",
    "with open('C:/Users/alexa/Desktop/Netology HW/Python/HW5 Файловая система и модули/Файлы/purchase_log.txt', 'r', encoding = 'utf-8') as f:\n",
    "    for line in f:\n",
    "        new_d = json.loads(line)\n",
    "        purchases[new_d['user_id']] = new_d['category']\n",
    "\n"
   ]
  },
  {
   "cell_type": "markdown",
   "metadata": {},
   "source": [
    "# Task2"
   ]
  },
  {
   "cell_type": "code",
   "execution_count": 26,
   "metadata": {},
   "outputs": [],
   "source": [
    "with open('C:/Users/alexa/Desktop/Netology HW/Python/HW5 Файловая система и модули/Файлы/visit_log.csv', 'r', encoding = 'utf-8') as f2:\n",
    "    with open('C:/Users/alexa/Desktop/Netology HW/Python/HW5 Файловая система и модули/Файлы/funnel.csv', 'w') as f2write:\n",
    "        for line in f2:\n",
    "            new_sour = line.strip().split(',')\n",
    "            if new_sour[0] in purchases.keys():\n",
    "                new_sour.append(purchases[new_sour[0]])  \n",
    "                f2write.write(str(new_sour)+ '\\n')\n",
    "                "
   ]
  }
 ],
 "metadata": {
  "kernelspec": {
   "display_name": "Python 3",
   "language": "python",
   "name": "python3"
  },
  "language_info": {
   "codemirror_mode": {
    "name": "ipython",
    "version": 3
   },
   "file_extension": ".py",
   "mimetype": "text/x-python",
   "name": "python",
   "nbconvert_exporter": "python",
   "pygments_lexer": "ipython3",
   "version": "3.8.5"
  }
 },
 "nbformat": 4,
 "nbformat_minor": 4
}
