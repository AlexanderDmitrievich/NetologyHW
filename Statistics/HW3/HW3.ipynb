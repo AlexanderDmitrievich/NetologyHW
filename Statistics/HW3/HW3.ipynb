{
 "cells": [
  {
   "cell_type": "markdown",
   "metadata": {},
   "source": [
    "# Домашнее задание к лекции «Случайные события. Случайные величины»\n",
    "\n",
    "Текст задания см. на скриншоте http://prntscr.com/uh35yg\n",
    "\n",
    "Смоделировать игру против лотерейного автомата типа “777”. Игрок платит 1 руб., после чего выпадает случайное целое число, равномерно распределенное от 0 до 999. При некоторых значениях числа игрок получает выигрыш.\n",
    "\n",
    "777: 200 руб.\n",
    "999: 100 руб.\n",
    "555: 50 руб.\n",
    "333: 15 руб.\n",
    "111: 10 руб.\n",
    "*77: 5 руб.\n",
    "**7: 3 руб.\n",
    "*00: 2 руб.\n",
    "**0: 1 руб.\n",
    "\n",
    "Вопросы:\n",
    "\n",
    "Выгодна ли игра игроку?\n",
    "Сколько в среднем приобретает или теряет игрок за одну игру?\n",
    "**Дополнительное задание повышенной сложности. **\n",
    "\n",
    "Теоретически рассчитать средний выигрыш (проигрыш) и сравнить с результатами моделирования\n",
    "\n",
    "– любая цифра"
   ]
  },
  {
   "cell_type": "code",
   "execution_count": 1,
   "metadata": {},
   "outputs": [],
   "source": [
    "import numpy as np"
   ]
  },
  {
   "cell_type": "code",
   "execution_count": 17,
   "metadata": {},
   "outputs": [
    {
     "name": "stdout",
     "output_type": "stream",
     "text": [
      "Выигрыш (проигрыш) за  10000000 попыток =  -2053226\n",
      "Средний выигрыш (проигрыш) за 1 попытку после  10000000 попыток =  -0.2053226\n"
     ]
    }
   ],
   "source": [
    "trials = 10000000\n",
    "money = 0\n",
    "successful = {777:200, 999:100, 555:50, 333:15, 111:10}\n",
    "\n",
    "for i in range(trials):\n",
    "    money -= 1\n",
    "    result = np.random.randint(0, 1000)\n",
    "    if result in successful.keys():\n",
    "        money += successful[result]    \n",
    "    elif result % 100 == 77:\n",
    "        money += 5\n",
    "    elif result % 10 == 7:\n",
    "        money += 3\n",
    "    elif result % 100 == 0:\n",
    "        money += 2\n",
    "    elif result % 10 == 0:\n",
    "        money += 1\n",
    "print (\"Выигрыш (проигрыш) за \", trials, \"попыток = \", money)\n",
    "print (\"Средний выигрыш (проигрыш) за 1 попытку после \", trials, \"попыток = \", money / trials)"
   ]
  },
  {
   "cell_type": "markdown",
   "metadata": {},
   "source": [
    "Игра игроку невыгодна"
   ]
  },
  {
   "cell_type": "markdown",
   "metadata": {},
   "source": [
    "# Дополнительное задание"
   ]
  },
  {
   "cell_type": "code",
   "execution_count": 6,
   "metadata": {},
   "outputs": [
    {
     "data": {
      "text/plain": [
       "-0.19499999999999995"
      ]
     },
     "execution_count": 6,
     "metadata": {},
     "output_type": "execute_result"
    }
   ],
   "source": [
    "result = ((1/1000)*200+(1/1000)*100+(1/1000)*50+(1/1000)*15+(1/1000)*10+(10/1000)*5+(90/1000)*3+(10/1000)*2+((90/1000))*1)-1\n",
    "result"
   ]
  },
  {
   "cell_type": "markdown",
   "metadata": {},
   "source": [
    "Моделирование показало cхожий с теоретическим расчетом результат"
   ]
  }
 ],
 "metadata": {
  "kernelspec": {
   "display_name": "Python 3",
   "language": "python",
   "name": "python3"
  },
  "language_info": {
   "codemirror_mode": {
    "name": "ipython",
    "version": 3
   },
   "file_extension": ".py",
   "mimetype": "text/x-python",
   "name": "python",
   "nbconvert_exporter": "python",
   "pygments_lexer": "ipython3",
   "version": "3.8.5"
  }
 },
 "nbformat": 4,
 "nbformat_minor": 4
}
