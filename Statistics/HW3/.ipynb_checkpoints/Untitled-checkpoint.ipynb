{
 "cells": [
  {
   "cell_type": "markdown",
   "metadata": {},
   "source": [
    "# Домашнее задание к лекции «Случайные события. Случайные величины»\n",
    "\n",
    "Текст задания см. на скриншоте http://prntscr.com/uh35yg\n",
    "\n",
    "Смоделировать игру против лотерейного автомата типа “777”. Игрок платит 1 руб., после чего выпадает случайное целое число, равномерно распределенное от 0 до 999. При некоторых значениях числа игрок получает выигрыш.\n",
    "\n",
    "777: 200 руб.\n",
    "999: 100 руб.\n",
    "555: 50 руб.\n",
    "333: 15 руб.\n",
    "111: 10 руб.\n",
    "*77: 5 руб.\n",
    "**7: 3 руб.\n",
    "*00: 2 руб.\n",
    "**0: 1 руб.\n",
    "\n",
    "Вопросы:\n",
    "\n",
    "Выгодна ли игра игроку?\n",
    "Сколько в среднем приобретает или теряет игрок за одну игру?\n",
    "**Дополнительное задание повышенной сложности. **\n",
    "\n",
    "Теоретически рассчитать средний выигрыш (проигрыш) и сравнить с результатами моделирования\n",
    "\n",
    "– любая цифра"
   ]
  },
  {
   "cell_type": "code",
   "execution_count": 2,
   "metadata": {},
   "outputs": [],
   "source": [
    "import numpy as np"
   ]
  },
  {
   "cell_type": "code",
   "execution_count": 16,
   "metadata": {},
   "outputs": [
    {
     "name": "stdout",
     "output_type": "stream",
     "text": [
      "Выигрыш (проигрыш) за  1000000 попыток =  -35443\n",
      "Средний выигрыш (проигрыш) за 1 попытку после  1000000 попыток =  -0.035443\n"
     ]
    }
   ],
   "source": [
    "trials = 1000000\n",
    "money = 0\n",
    "\n",
    "for i in range(trials):\n",
    "    money -= 1\n",
    "    result = np.random.randint(0, 1000)   \n",
    "    if result % 777 == 0:\n",
    "        money += 200\n",
    "    elif result % 999 == 0:\n",
    "        money += 100\n",
    "    elif result % 555 == 0:\n",
    "        money += 50    \n",
    "    elif result == '333':\n",
    "        money += 15\n",
    "    elif result == '111':\n",
    "        money += 10         \n",
    "    elif result % 100 == 77:\n",
    "        money += 5\n",
    "    elif result % 10 == 7:\n",
    "        money += 3\n",
    "    elif result % 100 == 0:\n",
    "        money += 2\n",
    "    elif result % 10 == 0:\n",
    "        money += 1\n",
    "print (\"Выигрыш (проигрыш) за \", trials, \"попыток = \", money)\n",
    "print (\"Средний выигрыш (проигрыш) за 1 попытку после \", trials, \"попыток = \", money / trials)"
   ]
  },
  {
   "cell_type": "markdown",
   "metadata": {},
   "source": [
    "Игра игроку невыгодна"
   ]
  },
  {
   "cell_type": "markdown",
   "metadata": {},
   "source": [
    "# Дополнительное задание"
   ]
  },
  {
   "cell_type": "code",
   "execution_count": 11,
   "metadata": {},
   "outputs": [
    {
     "data": {
      "text/plain": [
       "-0.19419419419419426"
      ]
     },
     "execution_count": 11,
     "metadata": {},
     "output_type": "execute_result"
    }
   ],
   "source": [
    "result = ((1/999)*200+(1/999)*100+(1/999)*50+(1/999)*15+(1/999)*10+(10/999)*5+(90/999)*3+(10/999)*2+((90/999))*1)-1\n",
    "result"
   ]
  },
  {
   "cell_type": "markdown",
   "metadata": {},
   "source": [
    "Моделирование показало результаты более выгодные для игрока, чем теоретический расчет"
   ]
  }
 ],
 "metadata": {
  "kernelspec": {
   "display_name": "Python 3",
   "language": "python",
   "name": "python3"
  },
  "language_info": {
   "codemirror_mode": {
    "name": "ipython",
    "version": 3
   },
   "file_extension": ".py",
   "mimetype": "text/x-python",
   "name": "python",
   "nbconvert_exporter": "python",
   "pygments_lexer": "ipython3",
   "version": "3.8.5"
  }
 },
 "nbformat": 4,
 "nbformat_minor": 4
}
