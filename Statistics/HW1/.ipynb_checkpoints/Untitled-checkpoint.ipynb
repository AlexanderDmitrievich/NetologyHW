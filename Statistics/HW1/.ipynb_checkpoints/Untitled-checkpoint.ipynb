{
 "cells": [
  {
   "cell_type": "markdown",
   "metadata": {},
   "source": [
    "# Task 1"
   ]
  },
  {
   "cell_type": "markdown",
   "metadata": {},
   "source": [
    "Будем осуществлять работу с непростым набором данных о состоянии здоровья лошадей, испытывающих кишечные колики. Цель – максимально корректно заполнить пропуски.\n",
    "\n",
    "Задание 1. Загрузка данных\n",
    "Изучить представленный набор данных на основе описания его столбцов, загрузить его и оставить 8 столбцов для дальнейшего изучения: surgery?, Age, rectal temperature, pulse, respiratory rate, temperature of extremities, pain, outcome."
   ]
  },
  {
   "cell_type": "code",
   "execution_count": 2,
   "metadata": {},
   "outputs": [],
   "source": [
    "import pandas as pd\n",
    "import numpy as np"
   ]
  },
  {
   "cell_type": "code",
   "execution_count": 3,
   "metadata": {},
   "outputs": [
    {
     "data": {
      "text/html": [
       "<div>\n",
       "<style scoped>\n",
       "    .dataframe tbody tr th:only-of-type {\n",
       "        vertical-align: middle;\n",
       "    }\n",
       "\n",
       "    .dataframe tbody tr th {\n",
       "        vertical-align: top;\n",
       "    }\n",
       "\n",
       "    .dataframe thead th {\n",
       "        text-align: right;\n",
       "    }\n",
       "</style>\n",
       "<table border=\"1\" class=\"dataframe\">\n",
       "  <thead>\n",
       "    <tr style=\"text-align: right;\">\n",
       "      <th></th>\n",
       "      <th>Surgery?</th>\n",
       "      <th>Age</th>\n",
       "      <th>Rectal temperature</th>\n",
       "      <th>Pulse</th>\n",
       "      <th>Respiratory rate</th>\n",
       "      <th>Temperature of extremities</th>\n",
       "      <th>Pain</th>\n",
       "      <th>Outcome</th>\n",
       "    </tr>\n",
       "  </thead>\n",
       "  <tbody>\n",
       "    <tr>\n",
       "      <th>0</th>\n",
       "      <td>1.0</td>\n",
       "      <td>1</td>\n",
       "      <td>39.2</td>\n",
       "      <td>88.0</td>\n",
       "      <td>20.0</td>\n",
       "      <td>NaN</td>\n",
       "      <td>3.0</td>\n",
       "      <td>3.0</td>\n",
       "    </tr>\n",
       "    <tr>\n",
       "      <th>1</th>\n",
       "      <td>2.0</td>\n",
       "      <td>1</td>\n",
       "      <td>38.3</td>\n",
       "      <td>40.0</td>\n",
       "      <td>24.0</td>\n",
       "      <td>1.0</td>\n",
       "      <td>3.0</td>\n",
       "      <td>1.0</td>\n",
       "    </tr>\n",
       "    <tr>\n",
       "      <th>2</th>\n",
       "      <td>1.0</td>\n",
       "      <td>9</td>\n",
       "      <td>39.1</td>\n",
       "      <td>164.0</td>\n",
       "      <td>84.0</td>\n",
       "      <td>4.0</td>\n",
       "      <td>2.0</td>\n",
       "      <td>2.0</td>\n",
       "    </tr>\n",
       "    <tr>\n",
       "      <th>3</th>\n",
       "      <td>2.0</td>\n",
       "      <td>1</td>\n",
       "      <td>37.3</td>\n",
       "      <td>104.0</td>\n",
       "      <td>35.0</td>\n",
       "      <td>NaN</td>\n",
       "      <td>NaN</td>\n",
       "      <td>2.0</td>\n",
       "    </tr>\n",
       "    <tr>\n",
       "      <th>4</th>\n",
       "      <td>2.0</td>\n",
       "      <td>1</td>\n",
       "      <td>NaN</td>\n",
       "      <td>NaN</td>\n",
       "      <td>NaN</td>\n",
       "      <td>2.0</td>\n",
       "      <td>2.0</td>\n",
       "      <td>1.0</td>\n",
       "    </tr>\n",
       "    <tr>\n",
       "      <th>...</th>\n",
       "      <td>...</td>\n",
       "      <td>...</td>\n",
       "      <td>...</td>\n",
       "      <td>...</td>\n",
       "      <td>...</td>\n",
       "      <td>...</td>\n",
       "      <td>...</td>\n",
       "      <td>...</td>\n",
       "    </tr>\n",
       "    <tr>\n",
       "      <th>294</th>\n",
       "      <td>1.0</td>\n",
       "      <td>1</td>\n",
       "      <td>NaN</td>\n",
       "      <td>120.0</td>\n",
       "      <td>70.0</td>\n",
       "      <td>4.0</td>\n",
       "      <td>2.0</td>\n",
       "      <td>3.0</td>\n",
       "    </tr>\n",
       "    <tr>\n",
       "      <th>295</th>\n",
       "      <td>2.0</td>\n",
       "      <td>1</td>\n",
       "      <td>37.2</td>\n",
       "      <td>72.0</td>\n",
       "      <td>24.0</td>\n",
       "      <td>3.0</td>\n",
       "      <td>4.0</td>\n",
       "      <td>3.0</td>\n",
       "    </tr>\n",
       "    <tr>\n",
       "      <th>296</th>\n",
       "      <td>1.0</td>\n",
       "      <td>1</td>\n",
       "      <td>37.5</td>\n",
       "      <td>72.0</td>\n",
       "      <td>30.0</td>\n",
       "      <td>4.0</td>\n",
       "      <td>4.0</td>\n",
       "      <td>2.0</td>\n",
       "    </tr>\n",
       "    <tr>\n",
       "      <th>297</th>\n",
       "      <td>1.0</td>\n",
       "      <td>1</td>\n",
       "      <td>36.5</td>\n",
       "      <td>100.0</td>\n",
       "      <td>24.0</td>\n",
       "      <td>3.0</td>\n",
       "      <td>3.0</td>\n",
       "      <td>1.0</td>\n",
       "    </tr>\n",
       "    <tr>\n",
       "      <th>298</th>\n",
       "      <td>1.0</td>\n",
       "      <td>1</td>\n",
       "      <td>37.2</td>\n",
       "      <td>40.0</td>\n",
       "      <td>20.0</td>\n",
       "      <td>NaN</td>\n",
       "      <td>NaN</td>\n",
       "      <td>3.0</td>\n",
       "    </tr>\n",
       "  </tbody>\n",
       "</table>\n",
       "<p>299 rows × 8 columns</p>\n",
       "</div>"
      ],
      "text/plain": [
       "     Surgery?  Age  Rectal temperature  Pulse  Respiratory rate  \\\n",
       "0         1.0    1                39.2   88.0              20.0   \n",
       "1         2.0    1                38.3   40.0              24.0   \n",
       "2         1.0    9                39.1  164.0              84.0   \n",
       "3         2.0    1                37.3  104.0              35.0   \n",
       "4         2.0    1                 NaN    NaN               NaN   \n",
       "..        ...  ...                 ...    ...               ...   \n",
       "294       1.0    1                 NaN  120.0              70.0   \n",
       "295       2.0    1                37.2   72.0              24.0   \n",
       "296       1.0    1                37.5   72.0              30.0   \n",
       "297       1.0    1                36.5  100.0              24.0   \n",
       "298       1.0    1                37.2   40.0              20.0   \n",
       "\n",
       "     Temperature of extremities  Pain  Outcome  \n",
       "0                           NaN   3.0      3.0  \n",
       "1                           1.0   3.0      1.0  \n",
       "2                           4.0   2.0      2.0  \n",
       "3                           NaN   NaN      2.0  \n",
       "4                           2.0   2.0      1.0  \n",
       "..                          ...   ...      ...  \n",
       "294                         4.0   2.0      3.0  \n",
       "295                         3.0   4.0      3.0  \n",
       "296                         4.0   4.0      2.0  \n",
       "297                         3.0   3.0      1.0  \n",
       "298                         NaN   NaN      3.0  \n",
       "\n",
       "[299 rows x 8 columns]"
      ]
     },
     "execution_count": 3,
     "metadata": {},
     "output_type": "execute_result"
    }
   ],
   "source": [
    "names = ['Surgery?', \n",
    "         'Age', \n",
    "         'Rectal temperature', \n",
    "         'Pulse', \n",
    "         'Respiratory rate', \n",
    "         'Temperature of extremities', \n",
    "         'Pain', \n",
    "         'Outcome']\n",
    "horses = pd.read_csv('https://raw.githubusercontent.com/obulygin/pyda_homeworks/master/statistics_basics/horse_data.csv', \n",
    "header = 0, usecols = [0,1,3,4,5,6,10,22], names = names, na_values = '?')\n",
    "horses"
   ]
  },
  {
   "cell_type": "markdown",
   "metadata": {},
   "source": [
    "# Task 2"
   ]
  },
  {
   "cell_type": "markdown",
   "metadata": {},
   "source": [
    "# Задание 2. Первичное изучение данных\n",
    "Проанализировать значения по столбцам, рассчитать базовые статистики, найти выбросы."
   ]
  },
  {
   "cell_type": "markdown",
   "metadata": {},
   "source": [
    "# Surgery"
   ]
  },
  {
   "cell_type": "code",
   "execution_count": 10,
   "metadata": {},
   "outputs": [
    {
     "data": {
      "text/plain": [
       "count    298.000000\n",
       "mean       1.395973\n",
       "std        0.489881\n",
       "min        1.000000\n",
       "25%        1.000000\n",
       "50%        1.000000\n",
       "75%        2.000000\n",
       "max        2.000000\n",
       "Name: Surgery?, dtype: float64"
      ]
     },
     "execution_count": 10,
     "metadata": {},
     "output_type": "execute_result"
    }
   ],
   "source": [
    "horses['Surgery?'].describe()"
   ]
  },
  {
   "cell_type": "code",
   "execution_count": 31,
   "metadata": {},
   "outputs": [
    {
     "name": "stdout",
     "output_type": "stream",
     "text": [
      "Размах =  1.0\n",
      "Среднеарифметическое =  1.395973154362416\n",
      "Мода =  1.0\n",
      "Медиана =  1.0\n",
      "Дисперсия =  0.23998372991661482\n",
      "1 квантиль =  1.0\n",
      "2 квантиль =  2.0\n",
      "Межквартальный размах =  1.0\n",
      "Уникальные значения =  [ 1.  2. nan]\n",
      "Количество уникальных значений =  1.0    180\n",
      "2.0    118\n",
      "Name: Surgery?, dtype: int64\n",
      "Выбросы =  Empty DataFrame\n",
      "Columns: [Surgery?, Age, Rectal temperature, Pulse, Respiratory rate, Temperature of extremities, Pain, Outcome]\n",
      "Index: []\n"
     ]
    }
   ],
   "source": [
    "# размах\n",
    "\n",
    "print (\"Размах = \", horses['Surgery?'].max() - horses['Surgery?'].min())\n",
    "\n",
    "#среднеарифметическое\n",
    "\n",
    "print (\"Среднеарифметическое = \", horses['Surgery?'].mean())\n",
    "\n",
    "#мода\n",
    "\n",
    "print (\"Мода = \", horses['Surgery?'].mode()[0])\n",
    "\n",
    "#медиана\n",
    "\n",
    "print (\"Медиана = \",  horses['Surgery?'].median())\n",
    "\n",
    "#дисперсия\n",
    "\n",
    "print (\"Дисперсия = \", horses['Surgery?'].var())\n",
    "\n",
    "#квантили и межквартальный размах\n",
    "\n",
    "Q1sur = horses['Surgery?'].quantile(0.25)\n",
    "print (\"1 квантиль = \", Q1sur)\n",
    "Q3sur = horses['Surgery?'].quantile(0.75)\n",
    "print (\"2 квантиль = \", Q3sur)\n",
    "IQRsur = Q3sur - Q1sur\n",
    "print (\"Межквартальный размах = \", IQRsur)\n",
    "\n",
    "#уникальные значения\n",
    "\n",
    "print (\"Уникальные значения = \", horses['Surgery?'].unique())\n",
    "\n",
    "#количество уникальных значений\n",
    "\n",
    "print (\"Количество уникальных значений = \", horses['Surgery?'].value_counts())\n",
    "\n",
    "#выбросы\n",
    "\n",
    "lower_bound_sur = Q1sur - (1.5 * IQRsur) \n",
    "upper_bound_sur = Q3sur + (1.5 * IQRsur)\n",
    "remove_outliers_sur = horses[(horses['Surgery?'].between(lower_bound_sur, upper_bound_sur, inclusive=True))\n",
    "| pd.isna(horses['Surgery?'])]\n",
    "print (\"Выбросы = \", pd.concat([horses, remove_outliers_sur]).drop_duplicates(keep=False))"
   ]
  },
  {
   "cell_type": "markdown",
   "metadata": {},
   "source": [
    "Выбросов нет"
   ]
  },
  {
   "cell_type": "markdown",
   "metadata": {},
   "source": [
    "# Age"
   ]
  },
  {
   "cell_type": "code",
   "execution_count": 30,
   "metadata": {},
   "outputs": [
    {
     "data": {
      "text/plain": [
       "count    299.00000\n",
       "mean       1.64214\n",
       "std        2.17730\n",
       "min        1.00000\n",
       "25%        1.00000\n",
       "50%        1.00000\n",
       "75%        1.00000\n",
       "max        9.00000\n",
       "Name: Age, dtype: float64"
      ]
     },
     "execution_count": 30,
     "metadata": {},
     "output_type": "execute_result"
    }
   ],
   "source": [
    "horses['Age'].describe()"
   ]
  },
  {
   "cell_type": "code",
   "execution_count": 7,
   "metadata": {},
   "outputs": [
    {
     "name": "stdout",
     "output_type": "stream",
     "text": [
      "Размах =  8\n",
      "Среднеарифметическое =  1.6421404682274248\n",
      "Мода =  1\n",
      "Медиана =  1.0\n",
      "Дисперсия =  4.740634329195755\n",
      "1 квантиль =  1.0\n",
      "2 квантиль =  1.0\n",
      "Межквартальный размах =  0.0\n",
      "Уникальные значения =  [1 9]\n",
      "Количество уникальных значений = \n",
      " 1    275\n",
      "9     24\n",
      "Name: Age, dtype: int64\n",
      "Выбросы = \n",
      " 2      9\n",
      "8      9\n",
      "12     9\n",
      "15     9\n",
      "22     9\n",
      "38     9\n",
      "40     9\n",
      "54     9\n",
      "73     9\n",
      "74     9\n",
      "81     9\n",
      "102    9\n",
      "108    9\n",
      "134    9\n",
      "190    9\n",
      "211    9\n",
      "226    9\n",
      "228    9\n",
      "243    9\n",
      "251    9\n",
      "254    9\n",
      "261    9\n",
      "274    9\n",
      "286    9\n",
      "Name: Age, dtype: int64\n"
     ]
    }
   ],
   "source": [
    "# размах\n",
    "\n",
    "print (\"Размах = \", horses['Age'].max() - horses['Age'].min())\n",
    "\n",
    "#среднеарифметическое\n",
    "\n",
    "print (\"Среднеарифметическое = \", horses['Age'].mean())\n",
    "\n",
    "#мода\n",
    "\n",
    "print (\"Мода = \", horses['Age'].mode()[0])\n",
    "\n",
    "#медиана\n",
    "\n",
    "print (\"Медиана = \",  horses['Age'].median())\n",
    "\n",
    "#дисперсия\n",
    "\n",
    "print (\"Дисперсия = \", horses['Age'].var())\n",
    "\n",
    "#квантили и межквартальный размах\n",
    "\n",
    "Q1age = horses['Age'].quantile(0.25)\n",
    "print (\"1 квантиль = \", Q1age)\n",
    "Q3age = horses['Age'].quantile(0.75)\n",
    "print (\"2 квантиль = \", Q3age)\n",
    "IQRage = Q3age - Q1age\n",
    "print (\"Межквартальный размах = \", IQRage)\n",
    "\n",
    "#уникальные значения\n",
    "\n",
    "print (\"Уникальные значения = \", horses['Age'].unique())\n",
    "\n",
    "#количество уникальных значений\n",
    "\n",
    "print (\"Количество уникальных значений = \\n\", horses['Age'].value_counts())\n",
    "\n",
    "#выбросы\n",
    "\n",
    "lower_bound_age = Q1age - (1.5 * IQRage) \n",
    "upper_bound_age = Q3age + (1.5 * IQRage)\n",
    "remove_outliers_age = horses[(horses['Age'].between(lower_bound_age, upper_bound_age, inclusive=True))\n",
    "| pd.isna(horses['Age'])]\n",
    "print (\"Выбросы = \\n\", pd.concat([horses, remove_outliers_age]).drop_duplicates(keep=False)['Age'])"
   ]
  },
  {
   "cell_type": "markdown",
   "metadata": {},
   "source": [
    "Возраст 9 определен как выбросы. Возможно, это специализированная конюшня, которая содержит лошадей именно с возрастом 1 год или 9 лет. Если это не так, то скорее всего значение 9 - ошибочное. Необходимо больше информации о настоящем возрасте этих лошадей с последующей заменой данных в таблице на верные."
   ]
  },
  {
   "cell_type": "markdown",
   "metadata": {},
   "source": [
    "# Rectal temperature"
   ]
  },
  {
   "cell_type": "code",
   "execution_count": 4,
   "metadata": {},
   "outputs": [
    {
     "data": {
      "text/plain": [
       "count    239.000000\n",
       "mean      38.166527\n",
       "std        0.733508\n",
       "min       35.400000\n",
       "25%       37.800000\n",
       "50%       38.200000\n",
       "75%       38.500000\n",
       "max       40.800000\n",
       "Name: Rectal temperature, dtype: float64"
      ]
     },
     "execution_count": 4,
     "metadata": {},
     "output_type": "execute_result"
    }
   ],
   "source": [
    "horses['Rectal temperature'].describe()"
   ]
  },
  {
   "cell_type": "code",
   "execution_count": 6,
   "metadata": {},
   "outputs": [
    {
     "name": "stdout",
     "output_type": "stream",
     "text": [
      "Размах =  5.399999999999999\n",
      "Среднеарифметическое =  38.166527196652744\n",
      "Мода =  38.0\n",
      "Медиана =  38.2\n",
      "Дисперсия =  0.5380345276185787\n",
      "1 квантиль =  37.8\n",
      "2 квантиль =  38.5\n",
      "Межквартальный размах =  0.7000000000000028\n",
      "Уникальные значения =  [39.2 38.3 39.1 37.3  nan 37.9 38.1 37.2 38.  38.2 37.6 37.5 39.4 39.9\n",
      " 38.4 38.6 37.8 37.7 39.  35.4 38.9 37.4 40.3 38.5 37.  39.7 38.7 36.4\n",
      " 38.8 39.6 36.8 39.5 36.5 36.  37.1 39.3 36.1 36.6 40.8 36.9 40. ]\n",
      "Количество уникальных значений = \n",
      " 38.0    26\n",
      "38.5    18\n",
      "38.3    18\n",
      "37.8    17\n",
      "38.2    16\n",
      "37.5    12\n",
      "38.1    12\n",
      "38.6    12\n",
      "38.4    11\n",
      "37.6     7\n",
      "37.7     7\n",
      "37.2     7\n",
      "38.7     7\n",
      "37.9     7\n",
      "38.8     6\n",
      "37.3     6\n",
      "39.2     5\n",
      "39.3     4\n",
      "38.9     4\n",
      "39.5     4\n",
      "39.0     4\n",
      "37.4     3\n",
      "39.4     3\n",
      "37.1     3\n",
      "40.3     2\n",
      "36.5     2\n",
      "37.0     2\n",
      "39.1     2\n",
      "36.0     1\n",
      "40.0     1\n",
      "36.4     1\n",
      "39.9     1\n",
      "35.4     1\n",
      "36.9     1\n",
      "39.6     1\n",
      "36.1     1\n",
      "36.8     1\n",
      "40.8     1\n",
      "39.7     1\n",
      "36.6     1\n",
      "Name: Rectal temperature, dtype: int64\n",
      "Выбросы = \n",
      " 19     39.9\n",
      "43     35.4\n",
      "53     40.3\n",
      "74     39.7\n",
      "79     36.4\n",
      "90     40.3\n",
      "98     39.6\n",
      "117    36.5\n",
      "140    36.0\n",
      "237    36.1\n",
      "250    36.6\n",
      "258    40.8\n",
      "280    40.0\n",
      "297    36.5\n",
      "Name: Rectal temperature, dtype: float64\n"
     ]
    }
   ],
   "source": [
    "# размах\n",
    "\n",
    "print (\"Размах = \", horses['Rectal temperature'].max() - horses['Rectal temperature'].min())\n",
    "\n",
    "#среднеарифметическое\n",
    "\n",
    "print (\"Среднеарифметическое = \", horses['Rectal temperature'].mean())\n",
    "\n",
    "#мода\n",
    "\n",
    "print (\"Мода = \", horses['Rectal temperature'].mode()[0])\n",
    "\n",
    "#медиана\n",
    "\n",
    "print (\"Медиана = \",  horses['Rectal temperature'].median())\n",
    "\n",
    "#дисперсия\n",
    "\n",
    "print (\"Дисперсия = \", horses['Rectal temperature'].var())\n",
    "\n",
    "#квантили и межквартальный размах\n",
    "\n",
    "Q1rtemp = horses['Rectal temperature'].quantile(0.25)\n",
    "print (\"1 квантиль = \", Q1rtemp)\n",
    "Q3rtemp = horses['Rectal temperature'].quantile(0.75)\n",
    "print (\"2 квантиль = \", Q3rtemp)\n",
    "IQRrtemp = Q3rtemp - Q1rtemp\n",
    "print (\"Межквартальный размах = \", IQRrtemp)\n",
    "\n",
    "#уникальные значения\n",
    "\n",
    "print (\"Уникальные значения = \", horses['Rectal temperature'].unique())\n",
    "\n",
    "#количество уникальных значений\n",
    "\n",
    "print (\"Количество уникальных значений = \\n\", horses['Rectal temperature'].value_counts())\n",
    "\n",
    "#выбросы\n",
    "\n",
    "lower_bound_rtemp = Q1rtemp - (1.5 * IQRrtemp) \n",
    "upper_bound_rtemp = Q3rtemp + (1.5 * IQRrtemp)\n",
    "remove_outliers_rtemp = horses[(horses['Rectal temperature'].between(lower_bound_rtemp, upper_bound_rtemp, inclusive=True))\n",
    "| pd.isna(horses['Rectal temperature'])]\n",
    "print (\"Выбросы = \\n\", pd.concat([horses, remove_outliers_rtemp]).drop_duplicates(keep=False)['Rectal temperature'])"
   ]
  },
  {
   "cell_type": "markdown",
   "metadata": {},
   "source": [
    "Значения выбросов приближены к нормальным значениям, соответственно, делаем вывод, что это реальные значения. Рекомендуем сохранить."
   ]
  },
  {
   "cell_type": "markdown",
   "metadata": {},
   "source": [
    "# Pulse"
   ]
  },
  {
   "cell_type": "code",
   "execution_count": 8,
   "metadata": {},
   "outputs": [
    {
     "data": {
      "text/plain": [
       "count    275.000000\n",
       "mean      71.934545\n",
       "std       28.680522\n",
       "min       30.000000\n",
       "25%       48.000000\n",
       "50%       64.000000\n",
       "75%       88.000000\n",
       "max      184.000000\n",
       "Name: Pulse, dtype: float64"
      ]
     },
     "execution_count": 8,
     "metadata": {},
     "output_type": "execute_result"
    }
   ],
   "source": [
    "horses['Pulse'].describe()"
   ]
  },
  {
   "cell_type": "code",
   "execution_count": 9,
   "metadata": {},
   "outputs": [
    {
     "name": "stdout",
     "output_type": "stream",
     "text": [
      "Размах =  154.0\n",
      "Среднеарифметическое =  71.93454545454546\n",
      "Мода =  48.0\n",
      "Медиана =  64.0\n",
      "Дисперсия =  822.5723424021243\n",
      "1 квантиль =  48.0\n",
      "2 квантиль =  88.0\n",
      "Межквартальный размах =  40.0\n",
      "Уникальные значения =  [ 88.  40. 164. 104.  nan  48.  60.  80.  90.  66.  72.  42.  92.  76.\n",
      "  96. 128.  64. 110. 130. 108. 100. 112.  52. 146. 150. 120. 140.  84.\n",
      "  46. 114. 160.  54.  56.  38.  98.  50.  44.  70.  78.  49.  30. 136.\n",
      " 132.  65.  86. 129.  68.  36.  45. 124. 184.  75.  82.]\n",
      "Количество уникальных значений = \n",
      " 48.0     28\n",
      "60.0     25\n",
      "40.0     18\n",
      "88.0     12\n",
      "52.0     12\n",
      "72.0     11\n",
      "100.0    11\n",
      "44.0     11\n",
      "120.0    10\n",
      "42.0     10\n",
      "96.0      8\n",
      "64.0      8\n",
      "84.0      8\n",
      "80.0      8\n",
      "56.0      7\n",
      "54.0      7\n",
      "50.0      6\n",
      "66.0      5\n",
      "68.0      5\n",
      "104.0     5\n",
      "70.0      4\n",
      "76.0      4\n",
      "92.0      4\n",
      "78.0      3\n",
      "90.0      3\n",
      "108.0     3\n",
      "86.0      3\n",
      "36.0      3\n",
      "112.0     3\n",
      "130.0     2\n",
      "140.0     2\n",
      "124.0     2\n",
      "114.0     2\n",
      "45.0      2\n",
      "150.0     2\n",
      "30.0      2\n",
      "146.0     1\n",
      "136.0     1\n",
      "184.0     1\n",
      "164.0     1\n",
      "129.0     1\n",
      "65.0      1\n",
      "132.0     1\n",
      "49.0      1\n",
      "98.0      1\n",
      "38.0      1\n",
      "160.0     1\n",
      "128.0     1\n",
      "110.0     1\n",
      "46.0      1\n",
      "75.0      1\n",
      "82.0      1\n",
      "Name: Pulse, dtype: int64\n",
      "Выбросы = \n",
      " 2      164.0\n",
      "40     150.0\n",
      "54     160.0\n",
      "254    184.0\n",
      "274    150.0\n",
      "Name: Pulse, dtype: float64\n"
     ]
    }
   ],
   "source": [
    "# размах\n",
    "\n",
    "print (\"Размах = \", horses['Pulse'].max() - horses['Pulse'].min())\n",
    "\n",
    "#среднеарифметическое\n",
    "\n",
    "print (\"Среднеарифметическое = \", horses['Pulse'].mean())\n",
    "\n",
    "#мода\n",
    "\n",
    "print (\"Мода = \", horses['Pulse'].mode()[0])\n",
    "\n",
    "#медиана\n",
    "\n",
    "print (\"Медиана = \",  horses['Pulse'].median())\n",
    "\n",
    "#дисперсия\n",
    "\n",
    "print (\"Дисперсия = \", horses['Pulse'].var())\n",
    "\n",
    "#квантили и межквартальный размах\n",
    "\n",
    "Q1pul = horses['Pulse'].quantile(0.25)\n",
    "print (\"1 квантиль = \", Q1pul)\n",
    "Q3pul = horses['Pulse'].quantile(0.75)\n",
    "print (\"2 квантиль = \", Q3pul)\n",
    "IQRpul = Q3pul - Q1pul\n",
    "print (\"Межквартальный размах = \", IQRpul)\n",
    "\n",
    "#уникальные значения\n",
    "\n",
    "print (\"Уникальные значения = \", horses['Pulse'].unique())\n",
    "\n",
    "#количество уникальных значений\n",
    "\n",
    "print (\"Количество уникальных значений = \\n\", horses['Pulse'].value_counts())\n",
    "\n",
    "#выбросы\n",
    "\n",
    "lower_bound_pul = Q1pul - (1.5 * IQRpul) \n",
    "upper_bound_pul = Q3pul + (1.5 * IQRpul)\n",
    "remove_outliers_pul = horses[(horses['Pulse'].between(lower_bound_pul, upper_bound_pul, inclusive=True))\n",
    "| pd.isna(horses['Pulse'])]\n",
    "print (\"Выбросы = \\n\", pd.concat([horses, remove_outliers_pul]).drop_duplicates(keep=False)['Pulse'])"
   ]
  },
  {
   "cell_type": "markdown",
   "metadata": {},
   "source": [
    "В состоянии покоя частота пульса у лошади составляет 25-40 ударов в минуту. Но в стрессовых ситуациях пульс лошади может подскочить до 220 - 240 уд./мин. Значения выбросов входят в промежуток 25 - 240 уд./мин. Скорее всего проведение замера было стрессовым для лошадей, результаты сердцебиения которых показали значения от 150 до 184 уд./мин, поэтому принимаем эти значения как реальные и оставляем в таблице."
   ]
  },
  {
   "cell_type": "markdown",
   "metadata": {},
   "source": [
    "# Respiratory rate"
   ]
  },
  {
   "cell_type": "code",
   "execution_count": 11,
   "metadata": {},
   "outputs": [
    {
     "data": {
      "text/plain": [
       "count    241.000000\n",
       "mean      30.427386\n",
       "std       17.678256\n",
       "min        8.000000\n",
       "25%       18.000000\n",
       "50%       24.000000\n",
       "75%       36.000000\n",
       "max       96.000000\n",
       "Name: Respiratory rate, dtype: float64"
      ]
     },
     "execution_count": 11,
     "metadata": {},
     "output_type": "execute_result"
    }
   ],
   "source": [
    "horses['Respiratory rate'].describe()"
   ]
  },
  {
   "cell_type": "code",
   "execution_count": 12,
   "metadata": {},
   "outputs": [
    {
     "name": "stdout",
     "output_type": "stream",
     "text": [
      "Размах =  88.0\n",
      "Среднеарифметическое =  30.42738589211618\n",
      "Мода =  20.0\n",
      "Медиана =  24.0\n",
      "Дисперсия =  312.5207468879668\n",
      "1 квантиль =  18.0\n",
      "2 квантиль =  36.0\n",
      "Межквартальный размах =  18.0\n",
      "Уникальные значения =  [20. 24. 84. 35. nan 16. 36. 12. 52. 28. 48. 21. 60. 34. 42. 30. 96. 72.\n",
      " 15. 44. 32. 22. 18. 80. 40. 10. 51. 68. 66.  9. 14. 90.  8. 23. 58. 13.\n",
      " 70. 26. 88. 25. 50.]\n",
      "Количество уникальных значений = \n",
      " 20.0    28\n",
      "24.0    27\n",
      "16.0    22\n",
      "12.0    19\n",
      "30.0    19\n",
      "40.0    17\n",
      "36.0    16\n",
      "28.0    12\n",
      "32.0    11\n",
      "18.0     8\n",
      "48.0     6\n",
      "14.0     4\n",
      "60.0     4\n",
      "35.0     3\n",
      "68.0     3\n",
      "10.0     3\n",
      "80.0     3\n",
      "44.0     3\n",
      "42.0     3\n",
      "90.0     2\n",
      "84.0     2\n",
      "70.0     2\n",
      "21.0     2\n",
      "96.0     2\n",
      "22.0     2\n",
      "51.0     2\n",
      "9.0      2\n",
      "50.0     2\n",
      "72.0     1\n",
      "23.0     1\n",
      "15.0     1\n",
      "34.0     1\n",
      "25.0     1\n",
      "8.0      1\n",
      "58.0     1\n",
      "52.0     1\n",
      "13.0     1\n",
      "26.0     1\n",
      "66.0     1\n",
      "88.0     1\n",
      "Name: Respiratory rate, dtype: int64\n",
      "Выбросы = \n",
      " 2      84.0\n",
      "38     96.0\n",
      "40     72.0\n",
      "81     80.0\n",
      "83     80.0\n",
      "102    68.0\n",
      "105    96.0\n",
      "119    66.0\n",
      "124    68.0\n",
      "207    80.0\n",
      "228    70.0\n",
      "243    88.0\n",
      "254    84.0\n",
      "264    68.0\n",
      "294    70.0\n",
      "Name: Respiratory rate, dtype: float64\n"
     ]
    }
   ],
   "source": [
    "# размах\n",
    "\n",
    "print (\"Размах = \", horses['Respiratory rate'].max() - horses['Respiratory rate'].min())\n",
    "\n",
    "#среднеарифметическое\n",
    "\n",
    "print (\"Среднеарифметическое = \", horses['Respiratory rate'].mean())\n",
    "\n",
    "#мода\n",
    "\n",
    "print (\"Мода = \", horses['Respiratory rate'].mode()[0])\n",
    "\n",
    "#медиана\n",
    "\n",
    "print (\"Медиана = \",  horses['Respiratory rate'].median())\n",
    "\n",
    "#дисперсия\n",
    "\n",
    "print (\"Дисперсия = \", horses['Respiratory rate'].var())\n",
    "\n",
    "#квантили и межквартальный размах\n",
    "\n",
    "Q1rrate = horses['Respiratory rate'].quantile(0.25)\n",
    "print (\"1 квантиль = \", Q1rrate)\n",
    "Q3rrate = horses['Respiratory rate'].quantile(0.75)\n",
    "print (\"2 квантиль = \", Q3rrate)\n",
    "IQRrrate = Q3rrate - Q1rrate\n",
    "print (\"Межквартальный размах = \", IQRrrate)\n",
    "\n",
    "#уникальные значения\n",
    "\n",
    "print (\"Уникальные значения = \", horses['Respiratory rate'].unique())\n",
    "\n",
    "#количество уникальных значений\n",
    "\n",
    "print (\"Количество уникальных значений = \\n\", horses['Respiratory rate'].value_counts())\n",
    "\n",
    "#выбросы\n",
    "\n",
    "lower_bound_rrate = Q1rrate - (1.5 * IQRrrate) \n",
    "upper_bound_rrate = Q3rrate + (1.5 * IQRrrate)\n",
    "remove_outliers_rrate = horses[(horses['Respiratory rate'].between(lower_bound_rrate, upper_bound_rrate, inclusive=True))\n",
    "| pd.isna(horses['Respiratory rate'])]\n",
    "print (\"Выбросы = \\n\", pd.concat([horses, remove_outliers_rrate]).drop_duplicates(keep=False)['Respiratory rate'])"
   ]
  },
  {
   "cell_type": "markdown",
   "metadata": {},
   "source": [
    "Здесь мы видим похожую на описанную выше ситуацию с сердцебиением. Да, значения выбросов выше нормальных, но все же, они похожи на реальные, ведь частота дыхания у лошади может доходить до 130-150 ед./мин. "
   ]
  },
  {
   "cell_type": "markdown",
   "metadata": {},
   "source": [
    "# Temperature of extremities"
   ]
  },
  {
   "cell_type": "code",
   "execution_count": 13,
   "metadata": {},
   "outputs": [
    {
     "data": {
      "text/plain": [
       "count    243.000000\n",
       "mean       2.345679\n",
       "std        1.046369\n",
       "min        1.000000\n",
       "25%        1.000000\n",
       "50%        3.000000\n",
       "75%        3.000000\n",
       "max        4.000000\n",
       "Name: Temperature of extremities, dtype: float64"
      ]
     },
     "execution_count": 13,
     "metadata": {},
     "output_type": "execute_result"
    }
   ],
   "source": [
    "horses['Temperature of extremities'].describe()"
   ]
  },
  {
   "cell_type": "code",
   "execution_count": 14,
   "metadata": {},
   "outputs": [
    {
     "name": "stdout",
     "output_type": "stream",
     "text": [
      "Размах =  3.0\n",
      "Среднеарифметическое =  2.345679012345679\n",
      "Мода =  3.0\n",
      "Медиана =  3.0\n",
      "Дисперсия =  1.09488827670646\n",
      "1 квантиль =  1.0\n",
      "2 квантиль =  3.0\n",
      "Межквартальный размах =  2.0\n",
      "Уникальные значения =  [nan  1.  4.  2.  3.]\n",
      "Количество уникальных значений = \n",
      " 3.0    108\n",
      "1.0     78\n",
      "2.0     30\n",
      "4.0     27\n",
      "Name: Temperature of extremities, dtype: int64\n",
      "Выбросы = \n",
      " Series([], Name: Temperature of extremities, dtype: float64)\n"
     ]
    }
   ],
   "source": [
    "# размах\n",
    "\n",
    "print (\"Размах = \", horses['Temperature of extremities'].max() - horses['Temperature of extremities'].min())\n",
    "\n",
    "#среднеарифметическое\n",
    "\n",
    "print (\"Среднеарифметическое = \", horses['Temperature of extremities'].mean())\n",
    "\n",
    "#мода\n",
    "\n",
    "print (\"Мода = \", horses['Temperature of extremities'].mode()[0])\n",
    "\n",
    "#медиана\n",
    "\n",
    "print (\"Медиана = \",  horses['Temperature of extremities'].median())\n",
    "\n",
    "#дисперсия\n",
    "\n",
    "print (\"Дисперсия = \", horses['Temperature of extremities'].var())\n",
    "\n",
    "#квантили и межквартальный размах\n",
    "\n",
    "Q1tex = horses['Temperature of extremities'].quantile(0.25)\n",
    "print (\"1 квантиль = \", Q1tex)\n",
    "Q3tex = horses['Temperature of extremities'].quantile(0.75)\n",
    "print (\"2 квантиль = \", Q3tex)\n",
    "IQRtex = Q3tex - Q1tex\n",
    "print (\"Межквартальный размах = \", IQRtex)\n",
    "\n",
    "#уникальные значения\n",
    "\n",
    "print (\"Уникальные значения = \", horses['Temperature of extremities'].unique())\n",
    "\n",
    "#количество уникальных значений\n",
    "\n",
    "print (\"Количество уникальных значений = \\n\", horses['Temperature of extremities'].value_counts())\n",
    "\n",
    "#выбросы\n",
    "\n",
    "lower_bound_tex = Q1tex - (1.5 * IQRtex) \n",
    "upper_bound_tex = Q3tex + (1.5 * IQRtex)\n",
    "remove_outliers_tex = horses[(horses['Temperature of extremities'].between(lower_bound_tex, upper_bound_tex, inclusive=True))\n",
    "| pd.isna(horses['Temperature of extremities'])]\n",
    "print (\"Выбросы = \\n\", pd.concat([horses, remove_outliers_tex]).drop_duplicates(keep=False)['Temperature of extremities'])"
   ]
  },
  {
   "cell_type": "markdown",
   "metadata": {},
   "source": [
    "Выбросов нет"
   ]
  },
  {
   "cell_type": "markdown",
   "metadata": {},
   "source": [
    "# Pain"
   ]
  },
  {
   "cell_type": "code",
   "execution_count": 15,
   "metadata": {},
   "outputs": [
    {
     "data": {
      "text/plain": [
       "count    244.000000\n",
       "mean       2.942623\n",
       "std        1.303993\n",
       "min        1.000000\n",
       "25%        2.000000\n",
       "50%        3.000000\n",
       "75%        4.000000\n",
       "max        5.000000\n",
       "Name: Pain, dtype: float64"
      ]
     },
     "execution_count": 15,
     "metadata": {},
     "output_type": "execute_result"
    }
   ],
   "source": [
    "horses['Pain'].describe()"
   ]
  },
  {
   "cell_type": "code",
   "execution_count": 16,
   "metadata": {},
   "outputs": [
    {
     "name": "stdout",
     "output_type": "stream",
     "text": [
      "Размах =  4.0\n",
      "Среднеарифметическое =  2.942622950819672\n",
      "Мода =  3.0\n",
      "Медиана =  3.0\n",
      "Дисперсия =  1.7003980300883774\n",
      "1 квантиль =  2.0\n",
      "2 квантиль =  4.0\n",
      "Межквартальный размах =  2.0\n",
      "Уникальные значения =  [ 3.  2. nan  4.  5.  1.]\n",
      "Количество уникальных значений = \n",
      " 3.0    67\n",
      "2.0    59\n",
      "5.0    41\n",
      "4.0    39\n",
      "1.0    38\n",
      "Name: Pain, dtype: int64\n",
      "Выбросы = \n",
      " Series([], Name: Pain, dtype: float64)\n"
     ]
    }
   ],
   "source": [
    "# размах\n",
    "\n",
    "print (\"Размах = \", horses['Pain'].max() - horses['Pain'].min())\n",
    "\n",
    "#среднеарифметическое\n",
    "\n",
    "print (\"Среднеарифметическое = \", horses['Pain'].mean())\n",
    "\n",
    "#мода\n",
    "\n",
    "print (\"Мода = \", horses['Pain'].mode()[0])\n",
    "\n",
    "#медиана\n",
    "\n",
    "print (\"Медиана = \",  horses['Pain'].median())\n",
    "\n",
    "#дисперсия\n",
    "\n",
    "print (\"Дисперсия = \", horses['Pain'].var())\n",
    "\n",
    "#квантили и межквартальный размах\n",
    "\n",
    "Q1pain = horses['Pain'].quantile(0.25)\n",
    "print (\"1 квантиль = \", Q1pain)\n",
    "Q3pain = horses['Pain'].quantile(0.75)\n",
    "print (\"2 квантиль = \", Q3pain)\n",
    "IQRpain = Q3pain - Q1pain\n",
    "print (\"Межквартальный размах = \", IQRpain)\n",
    "\n",
    "#уникальные значения\n",
    "\n",
    "print (\"Уникальные значения = \", horses['Pain'].unique())\n",
    "\n",
    "#количество уникальных значений\n",
    "\n",
    "print (\"Количество уникальных значений = \\n\", horses['Pain'].value_counts())\n",
    "\n",
    "#выбросы\n",
    "\n",
    "lower_bound_pain = Q1pain - (1.5 * IQRpain) \n",
    "upper_bound_pain = Q3pain + (1.5 * IQRpain)\n",
    "remove_outliers_pain = horses[(horses['Pain'].between(lower_bound_pain, upper_bound_pain, inclusive=True))\n",
    "| pd.isna(horses['Pain'])]\n",
    "print (\"Выбросы = \\n\", pd.concat([horses, remove_outliers_pain]).drop_duplicates(keep=False)['Pain'])"
   ]
  },
  {
   "cell_type": "markdown",
   "metadata": {},
   "source": [
    "Выбросов нет"
   ]
  },
  {
   "cell_type": "markdown",
   "metadata": {},
   "source": [
    "# Outcome"
   ]
  },
  {
   "cell_type": "code",
   "execution_count": 17,
   "metadata": {},
   "outputs": [
    {
     "data": {
      "text/plain": [
       "count    298.000000\n",
       "mean       1.550336\n",
       "std        0.737967\n",
       "min        1.000000\n",
       "25%        1.000000\n",
       "50%        1.000000\n",
       "75%        2.000000\n",
       "max        3.000000\n",
       "Name: Outcome, dtype: float64"
      ]
     },
     "execution_count": 17,
     "metadata": {},
     "output_type": "execute_result"
    }
   ],
   "source": [
    "horses['Outcome'].describe()"
   ]
  },
  {
   "cell_type": "code",
   "execution_count": 18,
   "metadata": {},
   "outputs": [
    {
     "name": "stdout",
     "output_type": "stream",
     "text": [
      "Размах =  2.0\n",
      "Среднеарифметическое =  1.5503355704697988\n",
      "Мода =  1.0\n",
      "Медиана =  1.0\n",
      "Дисперсия =  0.5445958466092722\n",
      "1 квантиль =  1.0\n",
      "2 квантиль =  2.0\n",
      "Межквартальный размах =  1.0\n",
      "Уникальные значения =  [ 3.  1.  2. nan]\n",
      "Количество уникальных значений = \n",
      " 1.0    178\n",
      "2.0     76\n",
      "3.0     44\n",
      "Name: Outcome, dtype: int64\n",
      "Выбросы = \n",
      " Series([], Name: Outcome, dtype: float64)\n"
     ]
    }
   ],
   "source": [
    "# размах\n",
    "\n",
    "print (\"Размах = \", horses['Outcome'].max() - horses['Outcome'].min())\n",
    "\n",
    "#среднеарифметическое\n",
    "\n",
    "print (\"Среднеарифметическое = \", horses['Outcome'].mean())\n",
    "\n",
    "#мода\n",
    "\n",
    "print (\"Мода = \", horses['Outcome'].mode()[0])\n",
    "\n",
    "#медиана\n",
    "\n",
    "print (\"Медиана = \",  horses['Outcome'].median())\n",
    "\n",
    "#дисперсия\n",
    "\n",
    "print (\"Дисперсия = \", horses['Outcome'].var())\n",
    "\n",
    "#квантили и межквартальный размах\n",
    "\n",
    "Q1out = horses['Outcome'].quantile(0.25)\n",
    "print (\"1 квантиль = \", Q1out)\n",
    "Q3out = horses['Outcome'].quantile(0.75)\n",
    "print (\"2 квантиль = \", Q3out)\n",
    "IQRout = Q3out - Q1out\n",
    "print (\"Межквартальный размах = \", IQRout)\n",
    "\n",
    "#уникальные значения\n",
    "\n",
    "print (\"Уникальные значения = \", horses['Outcome'].unique())\n",
    "\n",
    "#количество уникальных значений\n",
    "\n",
    "print (\"Количество уникальных значений = \\n\", horses['Outcome'].value_counts())\n",
    "\n",
    "#выбросы\n",
    "\n",
    "lower_bound_out = Q1out - (1.5 * IQRout) \n",
    "upper_bound_out = Q3out + (1.5 * IQRout)\n",
    "remove_outliers_out = horses[(horses['Outcome'].between(lower_bound_out, upper_bound_out, inclusive=True))\n",
    "| pd.isna(horses['Outcome'])]\n",
    "print (\"Выбросы = \\n\", pd.concat([horses, remove_outliers_out]).drop_duplicates(keep=False)['Outcome'])"
   ]
  },
  {
   "cell_type": "markdown",
   "metadata": {},
   "source": [
    "Выбросов нет"
   ]
  },
  {
   "cell_type": "markdown",
   "metadata": {},
   "source": [
    "# Task 3"
   ]
  },
  {
   "cell_type": "markdown",
   "metadata": {},
   "source": [
    "Задание 3. Работа с пропусками\n",
    "Рассчитать количество пропусков для всех выбранных столбцов. Принять и обосновать решение о методе заполнения пропусков по каждому столбцу на основе рассчитанных статистик и возможной взаимосвязи значений в них. Сформировать датафрейм, в котором пропуски будут отсутствовать."
   ]
  },
  {
   "cell_type": "code",
   "execution_count": 19,
   "metadata": {},
   "outputs": [
    {
     "name": "stdout",
     "output_type": "stream",
     "text": [
      "<class 'pandas.core.frame.DataFrame'>\n",
      "RangeIndex: 299 entries, 0 to 298\n",
      "Data columns (total 8 columns):\n",
      " #   Column                      Non-Null Count  Dtype  \n",
      "---  ------                      --------------  -----  \n",
      " 0   Surgery?                    298 non-null    float64\n",
      " 1   Age                         299 non-null    int64  \n",
      " 2   Rectal temperature          239 non-null    float64\n",
      " 3   Pulse                       275 non-null    float64\n",
      " 4   Respiratory rate            241 non-null    float64\n",
      " 5   Temperature of extremities  243 non-null    float64\n",
      " 6   Pain                        244 non-null    float64\n",
      " 7   Outcome                     298 non-null    float64\n",
      "dtypes: float64(7), int64(1)\n",
      "memory usage: 18.8 KB\n"
     ]
    }
   ],
   "source": [
    "horses.info()"
   ]
  },
  {
   "cell_type": "code",
   "execution_count": 37,
   "metadata": {},
   "outputs": [
    {
     "name": "stdout",
     "output_type": "stream",
     "text": [
      "Количество пропусков  Surgery?  =  1\n",
      "Количество пропусков  Age  =  0\n",
      "Количество пропусков  Rectal temperature  =  60\n",
      "Количество пропусков  Pulse  =  24\n",
      "Количество пропусков  Respiratory rate  =  58\n",
      "Количество пропусков  Temperature of extremities  =  56\n",
      "Количество пропусков  Pain  =  55\n",
      "Количество пропусков  Outcome  =  1\n"
     ]
    }
   ],
   "source": [
    "for col in horses:\n",
    "    print (\"Количество пропусков \", col, \" = \", horses[col].isna().sum())\n",
    "    "
   ]
  },
  {
   "cell_type": "markdown",
   "metadata": {},
   "source": [
    "# Surgery?"
   ]
  },
  {
   "cell_type": "markdown",
   "metadata": {},
   "source": [
    "В данной колонке всего 1 пропуск. Уникальных значений в колонке всего два: 1 и 2. Так как значение 1 чаще встречается в данной колонке, предлагаю заменить пропуск на 1."
   ]
  },
  {
   "cell_type": "code",
   "execution_count": 68,
   "metadata": {},
   "outputs": [],
   "source": [
    "horses['Surgery?'].fillna(horses['Surgery?'].min(), inplace=True)"
   ]
  },
  {
   "cell_type": "markdown",
   "metadata": {},
   "source": [
    "# Age"
   ]
  },
  {
   "cell_type": "markdown",
   "metadata": {},
   "source": [
    "В данной колонке пропуски отсутствуют"
   ]
  },
  {
   "cell_type": "markdown",
   "metadata": {},
   "source": [
    "# Rectal temperature"
   ]
  },
  {
   "cell_type": "markdown",
   "metadata": {},
   "source": [
    "Данная температура зависит от temperature of extremities, поэтому проводим группировку и подставляем медиану"
   ]
  },
  {
   "cell_type": "code",
   "execution_count": 69,
   "metadata": {},
   "outputs": [],
   "source": [
    "horses['Rectal temperature'].fillna(horses.groupby('Temperature of extremities')['Rectal temperature'].transform('median'), inplace=True)"
   ]
  },
  {
   "cell_type": "markdown",
   "metadata": {},
   "source": [
    "# Pulse"
   ]
  },
  {
   "cell_type": "markdown",
   "metadata": {},
   "source": [
    "Пульс может учащаться при повышенных значениях боли, температуре, и учащенном дыхании поэтому проводим группировку и подставляем медиану"
   ]
  },
  {
   "cell_type": "code",
   "execution_count": 70,
   "metadata": {},
   "outputs": [],
   "source": [
    "horses['Pulse'].fillna(horses.groupby(['Rectal temperature', 'Temperature of extremities', 'Pain', 'Respiratory rate'])['Pulse'].transform('median'), inplace=True)"
   ]
  },
  {
   "cell_type": "markdown",
   "metadata": {},
   "source": [
    "# Respiratory rate"
   ]
  },
  {
   "cell_type": "markdown",
   "metadata": {},
   "source": [
    "Аналогично пульсу ведет себя и дыхание. Проводим те же действия."
   ]
  },
  {
   "cell_type": "code",
   "execution_count": 71,
   "metadata": {},
   "outputs": [],
   "source": [
    "horses['Respiratory rate'].fillna(horses.groupby(['Rectal temperature', 'Temperature of extremities', 'Pain', 'Pulse'])['Respiratory rate'].transform('median'), inplace=True)"
   ]
  },
  {
   "cell_type": "markdown",
   "metadata": {},
   "source": [
    "# Temperature of extremities"
   ]
  },
  {
   "cell_type": "markdown",
   "metadata": {},
   "source": [
    "Temperature of extremities ведет себя аналогично Rectal temperature"
   ]
  },
  {
   "cell_type": "code",
   "execution_count": 72,
   "metadata": {},
   "outputs": [],
   "source": [
    "horses['Temperature of extremities'].fillna(horses.groupby('Rectal temperature')['Temperature of extremities'].transform('median'), inplace=True)"
   ]
  },
  {
   "cell_type": "markdown",
   "metadata": {},
   "source": [
    "# Pain"
   ]
  },
  {
   "cell_type": "markdown",
   "metadata": {},
   "source": [
    "В pain всего 5 уникльных значений. Мода, медиана и самое частое значение совпадают и это 3. Поэтому заменяем пропуски на 3."
   ]
  },
  {
   "cell_type": "code",
   "execution_count": 73,
   "metadata": {},
   "outputs": [],
   "source": [
    "horses['Pain'].fillna(horses['Pain'].mode()[0], inplace=True)"
   ]
  },
  {
   "cell_type": "markdown",
   "metadata": {},
   "source": [
    "# Outcome"
   ]
  },
  {
   "cell_type": "markdown",
   "metadata": {},
   "source": [
    "В данном столбце всего 1 пропуск. Предлагаем заменить на самое частое значение."
   ]
  },
  {
   "cell_type": "code",
   "execution_count": 74,
   "metadata": {},
   "outputs": [],
   "source": [
    "horses['Outcome'].fillna(horses['Outcome'].min(), inplace=True)"
   ]
  },
  {
   "cell_type": "code",
   "execution_count": 76,
   "metadata": {},
   "outputs": [
    {
     "data": {
      "text/html": [
       "<div>\n",
       "<style scoped>\n",
       "    .dataframe tbody tr th:only-of-type {\n",
       "        vertical-align: middle;\n",
       "    }\n",
       "\n",
       "    .dataframe tbody tr th {\n",
       "        vertical-align: top;\n",
       "    }\n",
       "\n",
       "    .dataframe thead th {\n",
       "        text-align: right;\n",
       "    }\n",
       "</style>\n",
       "<table border=\"1\" class=\"dataframe\">\n",
       "  <thead>\n",
       "    <tr style=\"text-align: right;\">\n",
       "      <th></th>\n",
       "      <th>Surgery?</th>\n",
       "      <th>Age</th>\n",
       "      <th>Rectal temperature</th>\n",
       "      <th>Pulse</th>\n",
       "      <th>Respiratory rate</th>\n",
       "      <th>Temperature of extremities</th>\n",
       "      <th>Pain</th>\n",
       "      <th>Outcome</th>\n",
       "    </tr>\n",
       "  </thead>\n",
       "  <tbody>\n",
       "    <tr>\n",
       "      <th>0</th>\n",
       "      <td>1.0</td>\n",
       "      <td>1</td>\n",
       "      <td>39.20</td>\n",
       "      <td>88.0</td>\n",
       "      <td>20.0</td>\n",
       "      <td>4.0</td>\n",
       "      <td>3.0</td>\n",
       "      <td>3.0</td>\n",
       "    </tr>\n",
       "    <tr>\n",
       "      <th>1</th>\n",
       "      <td>2.0</td>\n",
       "      <td>1</td>\n",
       "      <td>38.30</td>\n",
       "      <td>40.0</td>\n",
       "      <td>24.0</td>\n",
       "      <td>1.0</td>\n",
       "      <td>3.0</td>\n",
       "      <td>1.0</td>\n",
       "    </tr>\n",
       "    <tr>\n",
       "      <th>2</th>\n",
       "      <td>1.0</td>\n",
       "      <td>9</td>\n",
       "      <td>39.10</td>\n",
       "      <td>164.0</td>\n",
       "      <td>84.0</td>\n",
       "      <td>4.0</td>\n",
       "      <td>2.0</td>\n",
       "      <td>2.0</td>\n",
       "    </tr>\n",
       "    <tr>\n",
       "      <th>3</th>\n",
       "      <td>2.0</td>\n",
       "      <td>1</td>\n",
       "      <td>37.30</td>\n",
       "      <td>104.0</td>\n",
       "      <td>35.0</td>\n",
       "      <td>1.0</td>\n",
       "      <td>3.0</td>\n",
       "      <td>2.0</td>\n",
       "    </tr>\n",
       "    <tr>\n",
       "      <th>4</th>\n",
       "      <td>2.0</td>\n",
       "      <td>1</td>\n",
       "      <td>38.20</td>\n",
       "      <td>NaN</td>\n",
       "      <td>NaN</td>\n",
       "      <td>2.0</td>\n",
       "      <td>2.0</td>\n",
       "      <td>1.0</td>\n",
       "    </tr>\n",
       "    <tr>\n",
       "      <th>...</th>\n",
       "      <td>...</td>\n",
       "      <td>...</td>\n",
       "      <td>...</td>\n",
       "      <td>...</td>\n",
       "      <td>...</td>\n",
       "      <td>...</td>\n",
       "      <td>...</td>\n",
       "      <td>...</td>\n",
       "    </tr>\n",
       "    <tr>\n",
       "      <th>294</th>\n",
       "      <td>1.0</td>\n",
       "      <td>1</td>\n",
       "      <td>38.35</td>\n",
       "      <td>120.0</td>\n",
       "      <td>70.0</td>\n",
       "      <td>4.0</td>\n",
       "      <td>2.0</td>\n",
       "      <td>3.0</td>\n",
       "    </tr>\n",
       "    <tr>\n",
       "      <th>295</th>\n",
       "      <td>2.0</td>\n",
       "      <td>1</td>\n",
       "      <td>37.20</td>\n",
       "      <td>72.0</td>\n",
       "      <td>24.0</td>\n",
       "      <td>3.0</td>\n",
       "      <td>4.0</td>\n",
       "      <td>3.0</td>\n",
       "    </tr>\n",
       "    <tr>\n",
       "      <th>296</th>\n",
       "      <td>1.0</td>\n",
       "      <td>1</td>\n",
       "      <td>37.50</td>\n",
       "      <td>72.0</td>\n",
       "      <td>30.0</td>\n",
       "      <td>4.0</td>\n",
       "      <td>4.0</td>\n",
       "      <td>2.0</td>\n",
       "    </tr>\n",
       "    <tr>\n",
       "      <th>297</th>\n",
       "      <td>1.0</td>\n",
       "      <td>1</td>\n",
       "      <td>36.50</td>\n",
       "      <td>100.0</td>\n",
       "      <td>24.0</td>\n",
       "      <td>3.0</td>\n",
       "      <td>3.0</td>\n",
       "      <td>1.0</td>\n",
       "    </tr>\n",
       "    <tr>\n",
       "      <th>298</th>\n",
       "      <td>1.0</td>\n",
       "      <td>1</td>\n",
       "      <td>37.20</td>\n",
       "      <td>40.0</td>\n",
       "      <td>20.0</td>\n",
       "      <td>2.5</td>\n",
       "      <td>3.0</td>\n",
       "      <td>3.0</td>\n",
       "    </tr>\n",
       "  </tbody>\n",
       "</table>\n",
       "<p>299 rows × 8 columns</p>\n",
       "</div>"
      ],
      "text/plain": [
       "     Surgery?  Age  Rectal temperature  Pulse  Respiratory rate  \\\n",
       "0         1.0    1               39.20   88.0              20.0   \n",
       "1         2.0    1               38.30   40.0              24.0   \n",
       "2         1.0    9               39.10  164.0              84.0   \n",
       "3         2.0    1               37.30  104.0              35.0   \n",
       "4         2.0    1               38.20    NaN               NaN   \n",
       "..        ...  ...                 ...    ...               ...   \n",
       "294       1.0    1               38.35  120.0              70.0   \n",
       "295       2.0    1               37.20   72.0              24.0   \n",
       "296       1.0    1               37.50   72.0              30.0   \n",
       "297       1.0    1               36.50  100.0              24.0   \n",
       "298       1.0    1               37.20   40.0              20.0   \n",
       "\n",
       "     Temperature of extremities  Pain  Outcome  \n",
       "0                           4.0   3.0      3.0  \n",
       "1                           1.0   3.0      1.0  \n",
       "2                           4.0   2.0      2.0  \n",
       "3                           1.0   3.0      2.0  \n",
       "4                           2.0   2.0      1.0  \n",
       "..                          ...   ...      ...  \n",
       "294                         4.0   2.0      3.0  \n",
       "295                         3.0   4.0      3.0  \n",
       "296                         4.0   4.0      2.0  \n",
       "297                         3.0   3.0      1.0  \n",
       "298                         2.5   3.0      3.0  \n",
       "\n",
       "[299 rows x 8 columns]"
      ]
     },
     "execution_count": 76,
     "metadata": {},
     "output_type": "execute_result"
    }
   ],
   "source": [
    "horses"
   ]
  },
  {
   "cell_type": "code",
   "execution_count": null,
   "metadata": {},
   "outputs": [],
   "source": []
  }
 ],
 "metadata": {
  "kernelspec": {
   "display_name": "Python 3",
   "language": "python",
   "name": "python3"
  },
  "language_info": {
   "codemirror_mode": {
    "name": "ipython",
    "version": 3
   },
   "file_extension": ".py",
   "mimetype": "text/x-python",
   "name": "python",
   "nbconvert_exporter": "python",
   "pygments_lexer": "ipython3",
   "version": "3.8.5"
  }
 },
 "nbformat": 4,
 "nbformat_minor": 4
}
