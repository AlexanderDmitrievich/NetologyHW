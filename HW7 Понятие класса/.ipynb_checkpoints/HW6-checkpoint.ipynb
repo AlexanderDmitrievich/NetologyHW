{
 "cells": [
  {
   "cell_type": "markdown",
   "metadata": {},
   "source": [
    "# Task1"
   ]
  },
  {
   "cell_type": "code",
   "execution_count": 5,
   "metadata": {},
   "outputs": [],
   "source": [
    "from datetime import datetime"
   ]
  },
  {
   "cell_type": "code",
   "execution_count": 8,
   "metadata": {},
   "outputs": [],
   "source": [
    "date_string_TMT = 'Wednesday, October 2, 2002'"
   ]
  },
  {
   "cell_type": "code",
   "execution_count": 11,
   "metadata": {},
   "outputs": [
    {
     "data": {
      "text/plain": [
       "datetime.datetime(2002, 10, 2, 0, 0)"
      ]
     },
     "execution_count": 11,
     "metadata": {},
     "output_type": "execute_result"
    }
   ],
   "source": [
    "the_moscow_times = datetime.strptime(date_string_TMT, '%A, %B %d, %Y')\n",
    "the_moscow_times"
   ]
  },
  {
   "cell_type": "code",
   "execution_count": 13,
   "metadata": {},
   "outputs": [],
   "source": [
    "date_string_TG = 'Friday, 11.10.13'"
   ]
  },
  {
   "cell_type": "code",
   "execution_count": 15,
   "metadata": {},
   "outputs": [
    {
     "data": {
      "text/plain": [
       "datetime.datetime(2013, 10, 11, 0, 0)"
      ]
     },
     "execution_count": 15,
     "metadata": {},
     "output_type": "execute_result"
    }
   ],
   "source": [
    "the_guardian = datetime.strptime(date_string_TG, '%A, %d.%m.%y')\n",
    "the_guardian"
   ]
  },
  {
   "cell_type": "code",
   "execution_count": 16,
   "metadata": {},
   "outputs": [],
   "source": [
    "date_string_DN = 'Thursday, 18 August 1977'"
   ]
  },
  {
   "cell_type": "code",
   "execution_count": 18,
   "metadata": {},
   "outputs": [
    {
     "data": {
      "text/plain": [
       "datetime.datetime(1977, 8, 18, 0, 0)"
      ]
     },
     "execution_count": 18,
     "metadata": {},
     "output_type": "execute_result"
    }
   ],
   "source": [
    "daily_news = datetime.strptime(date_string_DN, '%A, %d %B %Y')\n",
    "daily_news"
   ]
  },
  {
   "cell_type": "markdown",
   "metadata": {},
   "source": [
    "# Task2"
   ]
  },
  {
   "cell_type": "code",
   "execution_count": 37,
   "metadata": {},
   "outputs": [
    {
     "data": {
      "text/plain": [
       "'2018-04-02'"
      ]
     },
     "execution_count": 37,
     "metadata": {},
     "output_type": "execute_result"
    }
   ],
   "source": [
    "stream = ['2018-04-02', '2018-02-29', '2018-19-02']\n",
    "stream[0]"
   ]
  },
  {
   "cell_type": "code",
   "execution_count": 39,
   "metadata": {},
   "outputs": [
    {
     "name": "stdout",
     "output_type": "stream",
     "text": [
      "2018-04-02 True\n",
      "2018-02-29 False\n",
      "2018-19-02 False\n"
     ]
    }
   ],
   "source": [
    "for date in stream:\n",
    "    try:\n",
    "        date_stream == datetime.strptime(date, '%Y-%m-%d')\n",
    "        print(date, True)\n",
    "    except:\n",
    "        print(date, False)"
   ]
  },
  {
   "cell_type": "markdown",
   "metadata": {},
   "source": [
    "# Task3"
   ]
  },
  {
   "cell_type": "code",
   "execution_count": 2,
   "metadata": {},
   "outputs": [],
   "source": [
    "from datetime import timedelta"
   ]
  },
  {
   "cell_type": "code",
   "execution_count": 6,
   "metadata": {},
   "outputs": [
    {
     "name": "stdout",
     "output_type": "stream",
     "text": [
      "2021-04-18 00:00:00\n",
      "2021-04-19 00:00:00\n",
      "2021-04-20 00:00:00\n",
      "2021-04-21 00:00:00\n",
      "2021-04-22 00:00:00\n",
      "2021-04-23 00:00:00\n",
      "2021-04-24 00:00:00\n",
      "2021-04-25 00:00:00\n",
      "2021-04-26 00:00:00\n",
      "2021-04-27 00:00:00\n",
      "2021-04-28 00:00:00\n",
      "2021-04-29 00:00:00\n",
      "2021-04-30 00:00:00\n",
      "2021-05-01 00:00:00\n",
      "2021-05-02 00:00:00\n",
      "2021-05-03 00:00:00\n",
      "2021-05-04 00:00:00\n"
     ]
    }
   ],
   "source": [
    "start_date = '2021-04-17'\n",
    "end_date = '2021-05-04'\n",
    "\n",
    "def date_range(start_date, end_date):\n",
    "    try:\n",
    "        start_date_dt = datetime.strptime(start_date, '%Y-%m-%d')\n",
    "        end_date_dt = datetime.strptime(end_date, '%Y-%m-%d')\n",
    "        if start_date_dt > end_date_dt:\n",
    "            print('Wrong daterange')\n",
    "        else:\n",
    "            while start_date_dt < end_date_dt:\n",
    "                start_date_dt += timedelta(days = 1)\n",
    "                print(start_date_dt)\n",
    "    except:\n",
    "        print('Wrong date')\n",
    "        \n",
    "date_range(start_date, end_date)"
   ]
  },
  {
   "cell_type": "markdown",
   "metadata": {},
   "source": [
    "# Дополнительное задание"
   ]
  },
  {
   "cell_type": "code",
   "execution_count": 7,
   "metadata": {},
   "outputs": [],
   "source": [
    "# Индекс из списка вне допустимого диапазона\n",
    "# При первом прогоне функции используется изначально базовый список, но при втором прогоне используется уже измененный список\n",
    "# Соответственно так как изменился состав списка, то изменились и индексы и т п, что и выдает ошибку"
   ]
  }
 ],
 "metadata": {
  "kernelspec": {
   "display_name": "Python 3",
   "language": "python",
   "name": "python3"
  },
  "language_info": {
   "codemirror_mode": {
    "name": "ipython",
    "version": 3
   },
   "file_extension": ".py",
   "mimetype": "text/x-python",
   "name": "python",
   "nbconvert_exporter": "python",
   "pygments_lexer": "ipython3",
   "version": "3.8.5"
  }
 },
 "nbformat": 4,
 "nbformat_minor": 4
}
