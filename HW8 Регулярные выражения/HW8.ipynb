{
 "cells": [
  {
   "cell_type": "markdown",
   "metadata": {},
   "source": [
    "# Task1"
   ]
  },
  {
   "cell_type": "code",
   "execution_count": 30,
   "metadata": {},
   "outputs": [],
   "source": [
    "import re"
   ]
  },
  {
   "cell_type": "code",
   "execution_count": 56,
   "metadata": {},
   "outputs": [
    {
     "name": "stdout",
     "output_type": "stream",
     "text": [
      "Введите номер автоA001AA77\n",
      "Номер A001AA валиден. Регион: 77\n"
     ]
    }
   ],
   "source": [
    "car_id = input('Введите номер авто')\n",
    "try:\n",
    "    number_auto = re.findall(r'([ETYOPAHKXCBM]{1}\\d{3}[ETYOPAHKXCBM]{2})(\\d{2,3})', car_id)\n",
    "    print(f'Номер {number_auto[0][0]} валиден. Регион: {number_auto[0][1]}')\n",
    "except:\n",
    "    print('Номер не валиден')\n"
   ]
  },
  {
   "cell_type": "markdown",
   "metadata": {},
   "source": [
    "# Task2"
   ]
  },
  {
   "cell_type": "code",
   "execution_count": 62,
   "metadata": {},
   "outputs": [
    {
     "data": {
      "text/plain": [
       "'Напишите функцию, которая будет будет удалять все все последовательные повторы слов из из заданной строки при помощи регулярных выражений'"
      ]
     },
     "execution_count": 62,
     "metadata": {},
     "output_type": "execute_result"
    }
   ],
   "source": [
    "some_string = 'Напишите функцию функцию, которая будет будет будет будет удалять все все все все последовательные повторы слов из из из из заданной строки строки при помощи регулярных выражений'\n",
    "\n",
    "re.sub(r'(\\w+)\\s\\1+', r'\\1', some_string)"
   ]
  },
  {
   "cell_type": "markdown",
   "metadata": {},
   "source": [
    "# Task3"
   ]
  },
  {
   "cell_type": "code",
   "execution_count": 109,
   "metadata": {},
   "outputs": [
    {
     "name": "stdout",
     "output_type": "stream",
     "text": [
      "Input wordsdbgheqb blqnb\n"
     ]
    },
    {
     "data": {
      "text/plain": [
       "'D B'"
      ]
     },
     "execution_count": 109,
     "metadata": {},
     "output_type": "execute_result"
    }
   ],
   "source": [
    "some_words = input('Input words')\n",
    "words = re.sub(r'(\\w{1})(\\w+)', r'\\1', some_words)\n",
    "\n",
    "words.upper()\n"
   ]
  },
  {
   "cell_type": "markdown",
   "metadata": {},
   "source": [
    "# Task4"
   ]
  },
  {
   "cell_type": "code",
   "execution_count": 125,
   "metadata": {},
   "outputs": [
    {
     "data": {
      "text/plain": [
       "{'@gmail.com': 2, '@test.in': 1, '@ya.ru': 2, '@mail.ru': 1}"
      ]
     },
     "execution_count": 125,
     "metadata": {},
     "output_type": "execute_result"
    }
   ],
   "source": [
    "emails = 'test@gmail.com, xyz@test.in, test@ya.ru, xyz@mail.ru, xyz@ya.ru, xyz@gmail.com'\n",
    "\n",
    "mail = re.findall(r'(\\w+)(@\\w+\\.\\w{2,3})', emails)\n",
    "\n",
    "domens = {}\n",
    "\n",
    "for keys, values in mail:\n",
    "    if values in domens:\n",
    "        domens[values] += 1\n",
    "    else:\n",
    "        domens[values] = 1\n",
    "        \n",
    "domens\n",
    "\n",
    "\n"
   ]
  }
 ],
 "metadata": {
  "kernelspec": {
   "display_name": "Python 3",
   "language": "python",
   "name": "python3"
  },
  "language_info": {
   "codemirror_mode": {
    "name": "ipython",
    "version": 3
   },
   "file_extension": ".py",
   "mimetype": "text/x-python",
   "name": "python",
   "nbconvert_exporter": "python",
   "pygments_lexer": "ipython3",
   "version": "3.8.5"
  }
 },
 "nbformat": 4,
 "nbformat_minor": 4
}
