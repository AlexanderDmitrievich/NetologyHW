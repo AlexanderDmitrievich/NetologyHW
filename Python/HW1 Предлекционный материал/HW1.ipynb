{
 "cells": [
  {
   "cell_type": "markdown",
   "metadata": {},
   "source": [
    "# Task1"
   ]
  },
  {
   "cell_type": "code",
   "execution_count": 6,
   "metadata": {},
   "outputs": [
    {
     "name": "stdout",
     "output_type": "stream",
     "text": [
      "phrase_1>phrase_2\n"
     ]
    }
   ],
   "source": [
    "phrase_1 = 'qwertyuiop'\n",
    "phrase_2 = 'qwerty'\n",
    "\n",
    "if len(phrase_1)>len(phrase_2): \n",
    "    print ('phrase_1>phrase_2')\n",
    "else:\n",
    "    print ('phrase_2>phrase_1')"
   ]
  },
  {
   "cell_type": "code",
   "execution_count": 7,
   "metadata": {},
   "outputs": [
    {
     "name": "stdout",
     "output_type": "stream",
     "text": [
      "phrase_2>phrase_1\n"
     ]
    }
   ],
   "source": [
    "phrase_1 = 'qwerty'\n",
    "phrase_2 = 'qwertyuiop'\n",
    "\n",
    "if len(phrase_1)>len(phrase_2): \n",
    "    print ('phrase_1>phrase_2')\n",
    "else:\n",
    "    print ('phrase_2>phrase_1')"
   ]
  },
  {
   "cell_type": "code",
   "execution_count": 8,
   "metadata": {},
   "outputs": [
    {
     "name": "stdout",
     "output_type": "stream",
     "text": [
      "phrase_2=phrase_1\n"
     ]
    }
   ],
   "source": [
    "phrase_1 = 'qwerty'\n",
    "phrase_2 = 'qwerty'\n",
    "\n",
    "if len(phrase_1)>len(phrase_2): \n",
    "    print ('phrase_1>phrase_2')\n",
    "elif len(phrase_1)<len(phrase_2):\n",
    "    print ('phrase_2>phrase_1')\n",
    "else:\n",
    "    print ('phrase_2=phrase_1')"
   ]
  },
  {
   "cell_type": "markdown",
   "metadata": {},
   "source": [
    "# Task2"
   ]
  },
  {
   "cell_type": "code",
   "execution_count": 11,
   "metadata": {},
   "outputs": [
    {
     "name": "stdout",
     "output_type": "stream",
     "text": [
      "2020 - високосный год\n"
     ]
    }
   ],
   "source": [
    "year = 2020\n",
    "\n",
    "if year % 4 == 0: \n",
    "    print (year, '- високосный год')\n",
    "else:\n",
    "    print (year, '- обычный год')"
   ]
  },
  {
   "cell_type": "code",
   "execution_count": 12,
   "metadata": {},
   "outputs": [
    {
     "name": "stdout",
     "output_type": "stream",
     "text": [
      "2019 - обычный год\n"
     ]
    }
   ],
   "source": [
    "year = 2019\n",
    "\n",
    "if year % 4 == 0: \n",
    "    print (year, '- високосный год')\n",
    "else:\n",
    "    print (year, '- обычный год')"
   ]
  },
  {
   "cell_type": "markdown",
   "metadata": {},
   "source": [
    "# Task3"
   ]
  },
  {
   "cell_type": "code",
   "execution_count": 104,
   "metadata": {},
   "outputs": [
    {
     "name": "stdout",
     "output_type": "stream",
     "text": [
      "Водолей\n"
     ]
    }
   ],
   "source": [
    "date = 18\n",
    "month = 'february'\n",
    "\n",
    "if date >= 21 and month == 'march':\n",
    "    print ('Овен')\n",
    "elif date <= 19 and month == 'april':\n",
    "    print ('Овен')\n",
    "elif date >= 20 and month == 'april':\n",
    "    print ('Телец')\n",
    "elif date <= 20 and month == 'may':\n",
    "    print ('Телец')\n",
    "elif date >= 21 and month == 'may':\n",
    "    print ('Близнецы')\n",
    "elif date <= 21 and month == 'june':\n",
    "    print ('Близнецы')\n",
    "elif date >= 22 and month == 'june':\n",
    "    print ('Рак')\n",
    "elif date <= 22 and month == 'july':\n",
    "    print ('Рак')\n",
    "elif date >= 23 and month == 'july': \n",
    "    print ('Лев')\n",
    "elif date <= 22 and month == 'august':\n",
    "    print ('Лев')\n",
    "elif date >= 23 and month == 'august':\n",
    "    print ('Дева')\n",
    "elif date <= 22 and month == 'september':\n",
    "    print ('Дева')\n",
    "elif date >= 23 and month == 'september':\n",
    "    print ('Весы')\n",
    "elif date <= 23 and month == 'october':\n",
    "    print ('Весы')\n",
    "elif date >= 24 and month == 'october':\n",
    "    print ('Скорпион')\n",
    "elif date <= 22 and month == 'november':\n",
    "    print ('Скорпион')\n",
    "elif date >= 23 and month == 'november':\n",
    "    print ('Стрелец')\n",
    "elif date <= 21 and month == 'december':\n",
    "    print ('Стрелец')\n",
    "elif date >= 22 and month == 'december':\n",
    "    print ('Козерог')\n",
    "elif date <= 20 and month == 'january':\n",
    "    print ('Козерог')\n",
    "elif date >= 21 and month == 'january': \n",
    "    print ('Водолей')\n",
    "elif date <= 18 and month == 'february':\n",
    "    print ('Водолей')\n",
    "elif date >= 19 and month == 'february':\n",
    "    print ('Рыбы')\n",
    "elif date <= 20 and month == 'march':\n",
    "    print ('Рыбы')\n",
    "else:\n",
    "    print ('None')\n",
    "    "
   ]
  },
  {
   "cell_type": "markdown",
   "metadata": {},
   "source": [
    "# Task4"
   ]
  },
  {
   "cell_type": "code",
   "execution_count": 70,
   "metadata": {},
   "outputs": [
    {
     "name": "stdout",
     "output_type": "stream",
     "text": [
      "Упаковка для лыж\n"
     ]
    }
   ],
   "source": [
    "width = 10\n",
    "length = 205\n",
    "height = 10\n",
    "\n",
    "if width < 15 and length < 15 and height < 15:\n",
    "    print ('Коробка №1')\n",
    "elif (15 < width < 50 or 15 < length < 50 or 15 < height < 50) and width < 50 and length < 50 and height < 50:\n",
    "    print ('Коробка №2')\n",
    "elif width > 200 or length > 200 or height > 200:\n",
    "    print ('Упаковка для лыж')\n",
    "else:\n",
    "    print ('Стандартная коробка №3')"
   ]
  },
  {
   "cell_type": "markdown",
   "metadata": {},
   "source": [
    "# Task 5 "
   ]
  },
  {
   "cell_type": "code",
   "execution_count": 99,
   "metadata": {},
   "outputs": [
    {
     "name": "stdout",
     "output_type": "stream",
     "text": [
      "Счастливый билет\n"
     ]
    }
   ],
   "source": [
    "number = 123024\n",
    "a = number % 10\n",
    "number = number // 10\n",
    "a = a + number % 10\n",
    "number = number // 10\n",
    "a = a + number % 10;\n",
    "number = number // 10;\n",
    "number = (number // 100) + (number // 10) % 10 + (number % 10)\n",
    "\n",
    "if number != a:\n",
    "    print ('Несчастливый билет')\n",
    "else: \n",
    "    print('Счастливый билет')"
   ]
  },
  {
   "cell_type": "markdown",
   "metadata": {},
   "source": [
    "# Task6"
   ]
  },
  {
   "cell_type": "code",
   "execution_count": 100,
   "metadata": {},
   "outputs": [
    {
     "name": "stdout",
     "output_type": "stream",
     "text": [
      "Введите радиус10\n",
      "314.1592653589793\n"
     ]
    }
   ],
   "source": [
    "import math\n",
    "from math import sqrt\n",
    "\n",
    "figure = 'Round'\n",
    "if figure == 'Round':\n",
    "    user_input = int(input('Введите радиус'))\n",
    "    print (math.pi*(user_input**2))\n",
    "elif figure == 'Square':\n",
    "    A = int(input('A'))\n",
    "    B = int(input('B'))\n",
    "    print (A*B)\n",
    "elif figure == 'Triangle':\n",
    "    A = int(input('A'))\n",
    "    B = int(input('B'))\n",
    "    C = int(input('С'))\n",
    "    P = (A+B+C)/2\n",
    "    print (sqrt(P*(P - A)*(P - B)*(P - C)))\n",
    "else:\n",
    "    print ('No data')"
   ]
  }
 ],
 "metadata": {
  "kernelspec": {
   "display_name": "Python 3",
   "language": "python",
   "name": "python3"
  },
  "language_info": {
   "codemirror_mode": {
    "name": "ipython",
    "version": 3
   },
   "file_extension": ".py",
   "mimetype": "text/x-python",
   "name": "python",
   "nbconvert_exporter": "python",
   "pygments_lexer": "ipython3",
   "version": "3.8.5"
  }
 },
 "nbformat": 4,
 "nbformat_minor": 4
}
