{
 "cells": [
  {
   "cell_type": "markdown",
   "metadata": {},
   "source": [
    "# Task1"
   ]
  },
  {
   "cell_type": "code",
   "execution_count": 2,
   "metadata": {},
   "outputs": [
    {
     "name": "stdout",
     "output_type": "stream",
     "text": [
      "h\n"
     ]
    }
   ],
   "source": [
    "word = 'testshsrkst'\n",
    "\n",
    "if len(word) % 2 == 0:\n",
    "    print (word[int(len(word) / 2-1)], word[int(len(word) / 2)])\n",
    "else:\n",
    "    print (word[int(len(word) / 2)])"
   ]
  },
  {
   "cell_type": "markdown",
   "metadata": {},
   "source": [
    "# Task2"
   ]
  },
  {
   "cell_type": "code",
   "execution_count": 5,
   "metadata": {},
   "outputs": [
    {
     "name": "stdout",
     "output_type": "stream",
     "text": [
      "Введите число5\n",
      "Введите число65\n",
      "Введите число7\n",
      "Введите число8\n",
      "Введите число0\n",
      "85\n"
     ]
    }
   ],
   "source": [
    "x = int(input('Введите число'))\n",
    "summ = 0\n",
    "\n",
    "while x != 0:\n",
    "    summ += x\n",
    "    x = int(input('Введите число'))\n",
    "print (summ)"
   ]
  },
  {
   "cell_type": "markdown",
   "metadata": {},
   "source": [
    "# Task3\n"
   ]
  },
  {
   "cell_type": "code",
   "execution_count": 64,
   "metadata": {},
   "outputs": [
    {
     "name": "stdout",
     "output_type": "stream",
     "text": [
      "Идеальные пары:\n",
      "Alex и Emma\n",
      "Arthur и Kate\n",
      "John и Kira\n",
      "Peter и Liza\n",
      "Richard и Trisha\n"
     ]
    }
   ],
   "source": [
    "boys = ['Peter', 'Alex', 'John', 'Arthur', 'Richard']\n",
    "girls = ['Kate', 'Liza', 'Kira', 'Emma', 'Trisha']\n",
    "\n",
    "sort_boys = sorted(boys)\n",
    "sort_girls = sorted(girls)\n",
    "\n",
    "if len(boys) == len(girls):\n",
    "    pairs = zip (sort_boys, sort_girls)\n",
    "    list_pairs = (list(pairs))\n",
    "    print ('Идеальные пары:')\n",
    "    for name in list_pairs:\n",
    "        print (name[0], 'и', name[1])\n",
    "else:\n",
    "    print ('Внимание, кто-то может остаться без пары!')\n",
    " \n",
    "    \n",
    " \n",
    "\n",
    "    "
   ]
  },
  {
   "cell_type": "markdown",
   "metadata": {},
   "source": [
    "# Task4"
   ]
  },
  {
   "cell_type": "code",
   "execution_count": 79,
   "metadata": {},
   "outputs": [
    {
     "name": "stdout",
     "output_type": "stream",
     "text": [
      "Средняя температура в странах:\n",
      "Thailand - 23.9 C\n",
      "Germany - 13.8 C\n",
      "Russia - 3.7 C\n",
      "Poland - 12.0 C\n"
     ]
    }
   ],
   "source": [
    "countries_temperature = [\n",
    "    ['Thailand', [75.2, 77, 78.8, 73.4, 68, 75.2, 77]],\n",
    "    ['Germany', [57.2, 55.4, 59, 59, 53.6]],\n",
    "    ['Russia', [35.6, 37.4, 39.2, 41, 42.8, 39.2, 35.6]],\n",
    "    ['Poland', [50, 50, 53.6, 57.2, 55.4, 55.4]]\n",
    "]\n",
    "\n",
    "print ('Средняя температура в странах:')\n",
    "for coutem in countries_temperature:\n",
    "    avgtemp = round(((sum(coutem[1])/len(coutem[1])) - 32) / 1.8,1)    \n",
    "    print (coutem[0], '-', avgtemp, 'C')"
   ]
  },
  {
   "cell_type": "markdown",
   "metadata": {},
   "source": [
    "# Task5"
   ]
  },
  {
   "cell_type": "code",
   "execution_count": 209,
   "metadata": {},
   "outputs": [
    {
     "name": "stdout",
     "output_type": "stream",
     "text": [
      "Cреднее количество просмотров на уникального пользователя: 23.25\n"
     ]
    }
   ],
   "source": [
    "stream = [\n",
    "    '2018-01-01,user1,3',\n",
    "    '2018-01-07,user1,4',\n",
    "    '2018-03-29,user1,1',\n",
    "    '2018-04-04,user1,13',\n",
    "    '2018-01-05,user2,7',\n",
    "    '2018-06-14,user3,4',\n",
    "    '2018-07-02,user3,10',\n",
    "    '2018-03-21,user4,19',\n",
    "    '2018-03-22,user4,4',\n",
    "    '2018-04-22,user4,8',\n",
    "    '2018-05-03,user4,9',\n",
    "    '2018-05-11,user4,11',\n",
    "]\n",
    "\n",
    "sum_watch = 0\n",
    "users = []\n",
    "\n",
    "for user in stream:\n",
    "    usernew = user.split(',')\n",
    "    sum_watch = sum_watch + int(usernew[2])\n",
    "    if usernew[1] not in users:\n",
    "        users.append(usernew[1])\n",
    "print('Cреднее количество просмотров на уникального пользователя:',round(sum_watch/len(users),2))\n",
    "        \n",
    "    "
   ]
  },
  {
   "cell_type": "markdown",
   "metadata": {},
   "source": [
    "# Task6"
   ]
  },
  {
   "cell_type": "code",
   "execution_count": 246,
   "metadata": {},
   "outputs": [
    {
     "name": "stdout",
     "output_type": "stream",
     "text": [
      "Введите число4\n",
      "Введите число5\n",
      "[4]\n",
      "Введите число8\n",
      "[4, 5]\n",
      "Введите число7\n",
      "[4, 5, 8]\n",
      "Введите число2\n",
      "[4, 5, 8, 7]\n",
      "Введите число6\n",
      "[4, 5, 8, 7, 2]\n",
      "Введите число7\n",
      "[4, 5, 8, 7, 2, 6]\n",
      "Введите число5\n",
      "[4, 5, 8, 7, 2, 6]\n",
      "Введите число000\n",
      "[4, 5, 8, 7, 2, 6]\n"
     ]
    }
   ],
   "source": [
    "x = int(input('Введите число'))\n",
    "box = []\n",
    "stop = 000\n",
    "\n",
    "while x != stop: \n",
    "    if x not in box:\n",
    "        box.append(x)\n",
    "    x = int(input('Введите число'))\n",
    "    print (box)"
   ]
  },
  {
   "cell_type": "code",
   "execution_count": null,
   "metadata": {},
   "outputs": [],
   "source": [
    "x = int(input('Введите число'))\n",
    "box = []\n",
    "\n",
    "while x != 0:\n",
    "    summ += x\n",
    "    x = int(input('Введите число'))\n",
    "print (summ)"
   ]
  }
 ],
 "metadata": {
  "kernelspec": {
   "display_name": "Python 3",
   "language": "python",
   "name": "python3"
  },
  "language_info": {
   "codemirror_mode": {
    "name": "ipython",
    "version": 3
   },
   "file_extension": ".py",
   "mimetype": "text/x-python",
   "name": "python",
   "nbconvert_exporter": "python",
   "pygments_lexer": "ipython3",
   "version": "3.8.5"
  }
 },
 "nbformat": 4,
 "nbformat_minor": 4
}
