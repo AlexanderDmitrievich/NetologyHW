{
 "cells": [
  {
   "cell_type": "markdown",
   "metadata": {},
   "source": [
    "# Задание"
   ]
  },
  {
   "cell_type": "code",
   "execution_count": 34,
   "metadata": {},
   "outputs": [],
   "source": [
    "documents = [\n",
    " {'type': 'passport', 'number': '2207 876234', 'name': 'Василий Гупкин'},\n",
    " {'type': 'invoice', 'number': '11-2', 'name': 'Геннадий Покемонов'},\n",
    " {'type': 'insurance', 'number': '10006', 'name': 'Аристарх Павлов'}\n",
    "]\n",
    "\n"
   ]
  },
  {
   "cell_type": "code",
   "execution_count": 2,
   "metadata": {},
   "outputs": [],
   "source": [
    "directories = {\n",
    " '1': ['2207 876234', '11-2'],\n",
    " '2': ['10006'],\n",
    " '3': []\n",
    "}\n",
    "\n"
   ]
  },
  {
   "cell_type": "markdown",
   "metadata": {},
   "source": [
    "# Operator"
   ]
  },
  {
   "cell_type": "code",
   "execution_count": 79,
   "metadata": {},
   "outputs": [
    {
     "name": "stdout",
     "output_type": "stream",
     "text": [
      "Введите командуp\n",
      "Введите номер документа10006\n",
      "Владелец документа: Аристарх Павлов\n",
      "Введите командуq\n"
     ]
    }
   ],
   "source": [
    "def input_user():\n",
    "    while True:\n",
    "        comand = input('Введите команду')\n",
    "        if comand == 'p':\n",
    "            print(doc_owner(documents))\n",
    "        elif comand == 's':\n",
    "            print(doc_shelf(directories))\n",
    "        elif comand == 'l':\n",
    "            print(doc_info(documents, directories))\n",
    "        elif comand == 'as':\n",
    "            print(add_shelf(direct))\n",
    "        elif comand == 'ds':\n",
    "            print(del_doc(direct))\n",
    "        elif comand == 'q':\n",
    "            break\n",
    "        else:\n",
    "            print ('no')\n",
    "    return\n",
    "            \n",
    "input_user()            \n",
    "            \n",
    "    "
   ]
  },
  {
   "cell_type": "markdown",
   "metadata": {},
   "source": [
    "# Task1"
   ]
  },
  {
   "cell_type": "code",
   "execution_count": 9,
   "metadata": {},
   "outputs": [
    {
     "name": "stdout",
     "output_type": "stream",
     "text": [
      "Введите номер документа151\n"
     ]
    },
    {
     "data": {
      "text/plain": [
       "'Документ не найден в базе'"
      ]
     },
     "execution_count": 9,
     "metadata": {},
     "output_type": "execute_result"
    }
   ],
   "source": [
    "def doc_owner(names):\n",
    "    num_doc = input('Введите номер документа')\n",
    "    for numbers in names:\n",
    "        if num_doc == numbers['number']:\n",
    "            return (f\"Владелец документа: {numbers['name']}\")\n",
    "    return ('Документ не найден в базе')\n",
    "        \n",
    "            \n",
    "doc_owner(documents)\n"
   ]
  },
  {
   "cell_type": "markdown",
   "metadata": {},
   "source": [
    "# Task2"
   ]
  },
  {
   "cell_type": "code",
   "execution_count": 11,
   "metadata": {},
   "outputs": [
    {
     "name": "stdout",
     "output_type": "stream",
     "text": [
      "Введите номер документа5\n"
     ]
    },
    {
     "data": {
      "text/plain": [
       "'Документ не найден в базе'"
      ]
     },
     "execution_count": 11,
     "metadata": {},
     "output_type": "execute_result"
    }
   ],
   "source": [
    "def doc_shelf(shelfs):\n",
    "    doc_num = input('Введите номер документа')\n",
    "    for key, number in shelfs.items():\n",
    "        for numbers in number:\n",
    "            if doc_num == (numbers):\n",
    "                return (f'Документ хранится на полке: {key}')\n",
    "    return ('Документ не найден в базе')\n",
    "        \n",
    "doc_shelf(directories) \n"
   ]
  },
  {
   "cell_type": "markdown",
   "metadata": {},
   "source": [
    "# Task3"
   ]
  },
  {
   "cell_type": "code",
   "execution_count": 22,
   "metadata": {},
   "outputs": [
    {
     "name": "stdout",
     "output_type": "stream",
     "text": [
      "№: 2207 876234, тип: passport, владелец: Василий Гупкин, полка хранения: 1\n",
      "№: 11-2, тип: invoice, владелец: Геннадий Покемонов, полка хранения: 1\n",
      "№: 10006, тип: insurance, владелец: Аристарх Павлов, полка хранения: 2\n"
     ]
    }
   ],
   "source": [
    "def doc_info(docs, dirs):\n",
    "    for numbers in docs:\n",
    "        doc_num = numbers['number']\n",
    "        for key, values in dirs.items():\n",
    "            if doc_num in values:\n",
    "                print (f\"№: {numbers['number']}, тип: {numbers['type']}, владелец: {numbers['name']}, полка хранения: {key}\")\n",
    "            \n",
    "\n",
    "doc_info(documents, directories)"
   ]
  },
  {
   "cell_type": "markdown",
   "metadata": {},
   "source": [
    "# Task4"
   ]
  },
  {
   "cell_type": "code",
   "execution_count": 107,
   "metadata": {},
   "outputs": [
    {
     "name": "stdout",
     "output_type": "stream",
     "text": [
      "Введите номер полки5\n"
     ]
    }
   ],
   "source": [
    "def add_shelf(shelf):\n",
    "    sh_num = input('Введите номер полки')\n",
    "    if sh_num in list(directories):\n",
    "        print ('no')\n",
    "    else:\n",
    "        directories[sh_num] = []\n",
    "        \n",
    "add_shelf(directories)\n",
    "       "
   ]
  },
  {
   "cell_type": "markdown",
   "metadata": {},
   "source": [
    "# Task5"
   ]
  },
  {
   "cell_type": "code",
   "execution_count": 136,
   "metadata": {},
   "outputs": [
    {
     "name": "stdout",
     "output_type": "stream",
     "text": [
      "Введите номер полки3\n"
     ]
    }
   ],
   "source": [
    "def del_doc(doc):\n",
    "    input_shelf = input('Введите номер полки')\n",
    "    if input_shelf not in directories:\n",
    "        print ('no shelf')\n",
    "    elif input_shelf in directories and len(directories[input_shelf]) == 0:\n",
    "        del(directories[input_shelf])\n",
    "    else:\n",
    "        print ('shelf have values')\n",
    "            \n",
    "del_doc(directories)"
   ]
  }
 ],
 "metadata": {
  "kernelspec": {
   "display_name": "Python 3",
   "language": "python",
   "name": "python3"
  },
  "language_info": {
   "codemirror_mode": {
    "name": "ipython",
    "version": 3
   },
   "file_extension": ".py",
   "mimetype": "text/x-python",
   "name": "python",
   "nbconvert_exporter": "python",
   "pygments_lexer": "ipython3",
   "version": "3.8.5"
  }
 },
 "nbformat": 4,
 "nbformat_minor": 4
}
