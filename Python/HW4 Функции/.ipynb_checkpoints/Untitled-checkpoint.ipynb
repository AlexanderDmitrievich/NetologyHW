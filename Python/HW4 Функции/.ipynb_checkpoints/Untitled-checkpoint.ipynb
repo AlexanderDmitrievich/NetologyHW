{
 "cells": [
  {
   "cell_type": "markdown",
   "metadata": {},
   "source": [
    "# Задание"
   ]
  },
  {
   "cell_type": "code",
   "execution_count": 2,
   "metadata": {},
   "outputs": [],
   "source": [
    "documents = [\n",
    " {'type': 'passport', 'number': '2207 876234', 'name': 'Василий Гупкин'},\n",
    " {'type': 'invoice', 'number': '11-2', 'name': 'Геннадий Покемонов'},\n",
    " {'type': 'insurance', 'number': '10006', 'name': 'Аристарх Павлов'}\n",
    "]\n",
    "\n"
   ]
  },
  {
   "cell_type": "code",
   "execution_count": 1,
   "metadata": {},
   "outputs": [],
   "source": [
    "directories = {\n",
    " '1': ['2207 876234', '11-2'],\n",
    " '2': ['10006'],\n",
    " '3': []\n",
    "}\n",
    "\n"
   ]
  },
  {
   "cell_type": "markdown",
   "metadata": {},
   "source": [
    "# Operator"
   ]
  },
  {
   "cell_type": "code",
   "execution_count": null,
   "metadata": {},
   "outputs": [],
   "source": [
    "def input_user():\n",
    "    while True:\n",
    "        comand = input('Введите команду')\n",
    "        if comand == 'p':\n",
    "            doc_owner(documents)\n",
    "        elif comand == 's':\n",
    "            doc_shelf(directories)\n",
    "        elif comand == 'l':\n",
    "            doc_info(documents, directories)\n",
    "        elif comand == 'as':\n",
    "            add_shelf(direct)\n",
    "        elif comand == 'ds':\n",
    "            del_doc(direct)\n",
    "        elif comand == 'q':\n",
    "            break\n",
    "        else:\n",
    "            print ('no')\n",
    "    return\n",
    "            \n",
    "            \n",
    "            \n",
    "    "
   ]
  },
  {
   "cell_type": "markdown",
   "metadata": {},
   "source": [
    "# Task1"
   ]
  },
  {
   "cell_type": "code",
   "execution_count": 66,
   "metadata": {},
   "outputs": [
    {
     "name": "stdout",
     "output_type": "stream",
     "text": [
      "Введите номер документа10006\n"
     ]
    },
    {
     "data": {
      "text/plain": [
       "('Владелец документа:', 'Аристарх Павлов')"
      ]
     },
     "execution_count": 66,
     "metadata": {},
     "output_type": "execute_result"
    }
   ],
   "source": [
    "def doc_owner(names):\n",
    "    num_doc = input('Введите номер документа')\n",
    "    for numbers in names:\n",
    "        if num_doc == numbers['number']:\n",
    "            return ('Владелец документа:',numbers['name'])\n",
    "    return ('Документ не найден в базе')\n",
    "        \n",
    "            \n",
    "doc_owner(documents)\n"
   ]
  },
  {
   "cell_type": "markdown",
   "metadata": {},
   "source": [
    "# Task2"
   ]
  },
  {
   "cell_type": "code",
   "execution_count": 65,
   "metadata": {},
   "outputs": [
    {
     "name": "stdout",
     "output_type": "stream",
     "text": [
      "Введите номер документа10006\n"
     ]
    },
    {
     "data": {
      "text/plain": [
       "('Документ хранится на полке:', '2')"
      ]
     },
     "execution_count": 65,
     "metadata": {},
     "output_type": "execute_result"
    }
   ],
   "source": [
    "def doc_shelf(shelfs):\n",
    "    doc_num = input('Введите номер документа')\n",
    "    for key, number in shelfs.items():\n",
    "        for numbers in number:\n",
    "            if doc_num == (numbers):\n",
    "                return ('Документ хранится на полке:', key)\n",
    "    return ('Документ не найден в базе')\n",
    "        \n",
    "doc_shelf(directories) \n"
   ]
  },
  {
   "cell_type": "markdown",
   "metadata": {},
   "source": [
    "# Task3"
   ]
  },
  {
   "cell_type": "code",
   "execution_count": 64,
   "metadata": {},
   "outputs": [
    {
     "name": "stdout",
     "output_type": "stream",
     "text": [
      "2207 876234 passport Василий Гупкин 1\n",
      "11-2 invoice Геннадий Покемонов 1\n",
      "10006 insurance Аристарх Павлов 2\n"
     ]
    }
   ],
   "source": [
    "def doc_info(docs, dirs):\n",
    "    for numbers in docs:\n",
    "        doc_num = numbers['number']\n",
    "        for key, values in dirs.items():\n",
    "            if doc_num in values:\n",
    "                print (numbers['number'], numbers['type'], numbers['name'], key)\n",
    "            \n",
    "\n",
    "doc_info(documents, directories)"
   ]
  },
  {
   "cell_type": "markdown",
   "metadata": {},
   "source": [
    "# Task4"
   ]
  },
  {
   "cell_type": "code",
   "execution_count": 138,
   "metadata": {},
   "outputs": [],
   "source": [
    "import copy\n",
    "\n",
    "direct = copy.copy(directories)"
   ]
  },
  {
   "cell_type": "code",
   "execution_count": 107,
   "metadata": {},
   "outputs": [
    {
     "name": "stdout",
     "output_type": "stream",
     "text": [
      "Введите номер полки5\n"
     ]
    }
   ],
   "source": [
    "def add_shelf(shelf):\n",
    "    sh_num = input('Введите номер полки')\n",
    "    if sh_num in list(direct):\n",
    "        print ('no')\n",
    "    else:\n",
    "        direct[sh_num] = []\n",
    "        \n",
    "add_shelf(direct)\n",
    "       "
   ]
  },
  {
   "cell_type": "code",
   "execution_count": 127,
   "metadata": {},
   "outputs": [
    {
     "data": {
      "text/plain": [
       "['1', '2', '3']"
      ]
     },
     "execution_count": 127,
     "metadata": {},
     "output_type": "execute_result"
    }
   ],
   "source": [
    "list(direct)"
   ]
  },
  {
   "cell_type": "code",
   "execution_count": 139,
   "metadata": {},
   "outputs": [
    {
     "data": {
      "text/plain": [
       "{'1': ['2207 876234', '11-2'], '2': ['10006'], '3': []}"
      ]
     },
     "execution_count": 139,
     "metadata": {},
     "output_type": "execute_result"
    }
   ],
   "source": [
    "direct"
   ]
  },
  {
   "cell_type": "markdown",
   "metadata": {},
   "source": [
    "# Task5"
   ]
  },
  {
   "cell_type": "code",
   "execution_count": 136,
   "metadata": {},
   "outputs": [
    {
     "name": "stdout",
     "output_type": "stream",
     "text": [
      "Введите номер полки3\n"
     ]
    }
   ],
   "source": [
    "def del_doc(doc):\n",
    "    input_shelf = input('Введите номер полки')\n",
    "    if input_shelf not in direct:\n",
    "        print ('no shelf')\n",
    "    elif input_shelf in direct and len(direct[input_shelf]) == 0:\n",
    "        del(direct[input_shelf])\n",
    "    else:\n",
    "        print ('shelf have values')\n",
    "            \n",
    "del_doc(direct)"
   ]
  },
  {
   "cell_type": "code",
   "execution_count": 140,
   "metadata": {},
   "outputs": [
    {
     "data": {
      "text/plain": [
       "{'1': ['2207 876234', '11-2'], '2': ['10006'], '3': []}"
      ]
     },
     "execution_count": 140,
     "metadata": {},
     "output_type": "execute_result"
    }
   ],
   "source": [
    "direct"
   ]
  },
  {
   "cell_type": "markdown",
   "metadata": {},
   "source": [
    "# Task 2/1"
   ]
  },
  {
   "cell_type": "code",
   "execution_count": 39,
   "metadata": {},
   "outputs": [
    {
     "name": "stdout",
     "output_type": "stream",
     "text": [
      "Введите номер документа102\n",
      "Введите номер документа5\n",
      "Введите номер документа5\n",
      "Введите тип документа6\n",
      "Введите тип документа4\n",
      "Введите тип документа7\n",
      "Введите владельца документа1\n",
      "Введите владельца документа2\n",
      "Введите владельца документа3\n"
     ]
    },
    {
     "ename": "TypeError",
     "evalue": "'dict' object is not callable",
     "output_type": "error",
     "traceback": [
      "\u001b[1;31m---------------------------------------------------------------------------\u001b[0m",
      "\u001b[1;31mTypeError\u001b[0m                                 Traceback (most recent call last)",
      "\u001b[1;32m<ipython-input-39-2cc80074d86d>\u001b[0m in \u001b[0;36m<module>\u001b[1;34m\u001b[0m\n\u001b[0;32m     17\u001b[0m         \u001b[0mkey\u001b[0m\u001b[1;33m[\u001b[0m\u001b[0minp_shelf\u001b[0m\u001b[1;33m]\u001b[0m \u001b[1;33m=\u001b[0m \u001b[0mvalue\u001b[0m\u001b[1;33m.\u001b[0m\u001b[0mappend\u001b[0m\u001b[1;33m(\u001b[0m\u001b[0minp_num\u001b[0m\u001b[1;33m)\u001b[0m\u001b[1;33m\u001b[0m\u001b[1;33m\u001b[0m\u001b[0m\n\u001b[0;32m     18\u001b[0m \u001b[1;33m\u001b[0m\u001b[0m\n\u001b[1;32m---> 19\u001b[1;33m \u001b[0madd_doc\u001b[0m\u001b[1;33m(\u001b[0m\u001b[0mdocum\u001b[0m\u001b[1;33m,\u001b[0m \u001b[0mdirect\u001b[0m\u001b[1;33m)\u001b[0m\u001b[1;33m\u001b[0m\u001b[1;33m\u001b[0m\u001b[0m\n\u001b[0m\u001b[0;32m     20\u001b[0m \u001b[1;33m\u001b[0m\u001b[0m\n\u001b[0;32m     21\u001b[0m \u001b[1;33m\u001b[0m\u001b[0m\n",
      "\u001b[1;32m<ipython-input-39-2cc80074d86d>\u001b[0m in \u001b[0;36madd_doc\u001b[1;34m(doc, dire)\u001b[0m\n\u001b[0;32m     13\u001b[0m         \u001b[0minp_owner\u001b[0m \u001b[1;33m=\u001b[0m \u001b[0minput\u001b[0m\u001b[1;33m(\u001b[0m\u001b[1;34m'Введите владельца документа'\u001b[0m\u001b[1;33m)\u001b[0m\u001b[1;33m\u001b[0m\u001b[1;33m\u001b[0m\u001b[0m\n\u001b[0;32m     14\u001b[0m         \u001b[0mnumbers\u001b[0m\u001b[1;33m[\u001b[0m\u001b[1;34m'name'\u001b[0m\u001b[1;33m]\u001b[0m \u001b[1;33m=\u001b[0m \u001b[0minp_owner\u001b[0m\u001b[1;33m\u001b[0m\u001b[1;33m\u001b[0m\u001b[0m\n\u001b[1;32m---> 15\u001b[1;33m     \u001b[1;32mfor\u001b[0m \u001b[0mkey\u001b[0m\u001b[1;33m,\u001b[0m \u001b[0mvalues\u001b[0m \u001b[1;32min\u001b[0m \u001b[0mdire\u001b[0m\u001b[1;33m(\u001b[0m\u001b[1;33m)\u001b[0m\u001b[1;33m:\u001b[0m\u001b[1;33m\u001b[0m\u001b[1;33m\u001b[0m\u001b[0m\n\u001b[0m\u001b[0;32m     16\u001b[0m         \u001b[0minp_shelf\u001b[0m \u001b[1;33m=\u001b[0m \u001b[0minput\u001b[0m\u001b[1;33m(\u001b[0m\u001b[1;34m'Введите номер полки'\u001b[0m\u001b[1;33m)\u001b[0m\u001b[1;33m\u001b[0m\u001b[1;33m\u001b[0m\u001b[0m\n\u001b[0;32m     17\u001b[0m         \u001b[0mkey\u001b[0m\u001b[1;33m[\u001b[0m\u001b[0minp_shelf\u001b[0m\u001b[1;33m]\u001b[0m \u001b[1;33m=\u001b[0m \u001b[0mvalue\u001b[0m\u001b[1;33m.\u001b[0m\u001b[0mappend\u001b[0m\u001b[1;33m(\u001b[0m\u001b[0minp_num\u001b[0m\u001b[1;33m)\u001b[0m\u001b[1;33m\u001b[0m\u001b[1;33m\u001b[0m\u001b[0m\n",
      "\u001b[1;31mTypeError\u001b[0m: 'dict' object is not callable"
     ]
    }
   ],
   "source": [
    "import copy\n",
    "\n",
    "docum = copy.copy(documents)\n",
    "\n",
    "def add_doc(doc, dire):\n",
    "    for numbers in doc:\n",
    "        inp_num = input('Введите номер документа')\n",
    "        numbers['number'] = inp_num\n",
    "    for numbers in doc:\n",
    "        inp_type = input('Введите тип документа')\n",
    "        numbers['type'] = inp_type\n",
    "    for numbers in doc:\n",
    "        inp_owner = input('Введите владельца документа')\n",
    "        numbers['name'] = inp_owner\n",
    "    for key, values in dire():\n",
    "        inp_shelf = input('Введите номер полки')\n",
    "        key[inp_shelf] = value.append(inp_num)\n",
    "    \n",
    "add_doc(docum, direct)\n",
    "    \n",
    "    \n",
    "    #"
   ]
  }
 ],
 "metadata": {
  "kernelspec": {
   "display_name": "Python 3",
   "language": "python",
   "name": "python3"
  },
  "language_info": {
   "codemirror_mode": {
    "name": "ipython",
    "version": 3
   },
   "file_extension": ".py",
   "mimetype": "text/x-python",
   "name": "python",
   "nbconvert_exporter": "python",
   "pygments_lexer": "ipython3",
   "version": "3.8.5"
  }
 },
 "nbformat": 4,
 "nbformat_minor": 4
}
