{
 "cells": [
  {
   "cell_type": "markdown",
   "metadata": {},
   "source": [
    "# Домашнее задание \"Линейная алгебра. Матрицы\".\n",
    "Уровень 0:\n",
    "Задание 1\n",
    "\n",
    "Создайте матрицу 3 на 3, заполненную числами от 1 до 9\n",
    "\n",
    "Прибавьте к ней матрицу с единицами на диагонале\n",
    "\n",
    "Умножьте полученную матрицу на вектор (1, 2, 3)\n",
    "\n",
    "Вычислить транспонированную матрицу  от полученной в результате прибавления матрицы\n",
    "\n",
    "Посчитайте обратную матрицу к полученной в результате прибавления матрице"
   ]
  },
  {
   "cell_type": "code",
   "execution_count": 1,
   "metadata": {},
   "outputs": [],
   "source": [
    "import numpy as np\n",
    "import matplotlib.pyplot as plt\n",
    "from random import randint\n",
    "from scipy import linalg\n",
    "from math import cos, sin"
   ]
  },
  {
   "cell_type": "code",
   "execution_count": 2,
   "metadata": {},
   "outputs": [
    {
     "data": {
      "text/plain": [
       "array([[5, 7, 4],\n",
       "       [6, 8, 3],\n",
       "       [3, 5, 5]])"
      ]
     },
     "execution_count": 2,
     "metadata": {},
     "output_type": "execute_result"
    }
   ],
   "source": [
    "matrix = np.random.randint(1,9, size=(3, 3))\n",
    "matrix"
   ]
  },
  {
   "cell_type": "code",
   "execution_count": 3,
   "metadata": {},
   "outputs": [],
   "source": [
    "ones  = np.eye(3)"
   ]
  },
  {
   "cell_type": "code",
   "execution_count": 4,
   "metadata": {},
   "outputs": [
    {
     "data": {
      "text/plain": [
       "array([[6., 7., 4.],\n",
       "       [6., 9., 3.],\n",
       "       [3., 5., 6.]])"
      ]
     },
     "execution_count": 4,
     "metadata": {},
     "output_type": "execute_result"
    }
   ],
   "source": [
    "res1 = matrix + ones\n",
    "res1"
   ]
  },
  {
   "cell_type": "code",
   "execution_count": 5,
   "metadata": {},
   "outputs": [],
   "source": [
    "vec = np.array([[1],[2],[3]])"
   ]
  },
  {
   "cell_type": "code",
   "execution_count": 6,
   "metadata": {},
   "outputs": [
    {
     "data": {
      "text/plain": [
       "array([[32.],\n",
       "       [33.],\n",
       "       [31.]])"
      ]
     },
     "execution_count": 6,
     "metadata": {},
     "output_type": "execute_result"
    }
   ],
   "source": [
    "res2 = np.dot(res1,vec)\n",
    "res2"
   ]
  },
  {
   "cell_type": "code",
   "execution_count": 10,
   "metadata": {},
   "outputs": [
    {
     "data": {
      "text/plain": [
       "array([[6., 6., 3.],\n",
       "       [7., 9., 5.],\n",
       "       [4., 3., 6.]])"
      ]
     },
     "execution_count": 10,
     "metadata": {},
     "output_type": "execute_result"
    }
   ],
   "source": [
    "res1.transpose()"
   ]
  },
  {
   "cell_type": "code",
   "execution_count": 11,
   "metadata": {},
   "outputs": [
    {
     "data": {
      "text/plain": [
       "array([[ 0.68421053, -0.38596491, -0.26315789],\n",
       "       [-0.47368421,  0.42105263,  0.10526316],\n",
       "       [ 0.05263158, -0.15789474,  0.21052632]])"
      ]
     },
     "execution_count": 11,
     "metadata": {},
     "output_type": "execute_result"
    }
   ],
   "source": [
    "linalg.inv(res1)"
   ]
  },
  {
   "cell_type": "markdown",
   "metadata": {},
   "source": [
    "Уровень 1:\n",
    "\n",
    "Задание 2\n",
    "Найдите собственные значения и собственные вектора матрицы:\n",
    "\n",
    "m = np.array([[2, 2],\n",
    "              [1, 3]])\n",
    "print(m)"
   ]
  },
  {
   "cell_type": "code",
   "execution_count": 12,
   "metadata": {},
   "outputs": [
    {
     "name": "stdout",
     "output_type": "stream",
     "text": [
      "[[2 2]\n",
      " [1 3]]\n"
     ]
    }
   ],
   "source": [
    "m = np.array([[2, 2], [1, 3]]) \n",
    "print(m)"
   ]
  },
  {
   "cell_type": "code",
   "execution_count": 20,
   "metadata": {},
   "outputs": [
    {
     "name": "stdout",
     "output_type": "stream",
     "text": [
      "Собственные значения:\n",
      " [1. 4.]\n",
      "Собственные вектора:\n",
      " [[-0.89442719 -0.70710678]\n",
      " [ 0.4472136  -0.70710678]]\n"
     ]
    }
   ],
   "source": [
    "w, v = np.linalg.eig(m)\n",
    "print('Собственные значения:\\n', w)\n",
    "print('Собственные вектора:\\n', v)"
   ]
  },
  {
   "cell_type": "markdown",
   "metadata": {},
   "source": [
    "Задание 3\n",
    "\n",
    "Придумайте матрицу, у которой определитель = 1, и все элементы не равны 0.\n",
    "\n",
    "P.S. Матрица должна быть ненулевой и размерностью не менее 2!"
   ]
  },
  {
   "cell_type": "code",
   "execution_count": 22,
   "metadata": {},
   "outputs": [
    {
     "name": "stdout",
     "output_type": "stream",
     "text": [
      "Матрица, у которой определитель = 1, и все элементы не равны 0\n",
      "[[-5  3  6]\n",
      " [ 8 -5  1]\n",
      " [-3  2 -6]]\n"
     ]
    }
   ],
   "source": [
    "zero_matrix = np.array([[0, 0, 0],\n",
    "                       [0, 0, 0],\n",
    "                       [0, 0, 0]])\n",
    "\n",
    "while True:\n",
    "    some_matrix = np.array([np.random.randint(-9, 9, 3),\n",
    "                            np.random.randint(-9, 9, 3),\n",
    "                            np.random.randint(-9, 9, 3)])\n",
    "\n",
    "    if some_matrix.any() != zero_matrix.any() and np.linalg.det(some_matrix) == 1:\n",
    "        break\n",
    "\n",
    "print('Матрица, у которой определитель = 1, и все элементы не равны 0')\n",
    "print(some_matrix)"
   ]
  },
  {
   "cell_type": "code",
   "execution_count": null,
   "metadata": {},
   "outputs": [],
   "source": []
  }
 ],
 "metadata": {
  "kernelspec": {
   "display_name": "Python 3",
   "language": "python",
   "name": "python3"
  },
  "language_info": {
   "codemirror_mode": {
    "name": "ipython",
    "version": 3
   },
   "file_extension": ".py",
   "mimetype": "text/x-python",
   "name": "python",
   "nbconvert_exporter": "python",
   "pygments_lexer": "ipython3",
   "version": "3.8.5"
  }
 },
 "nbformat": 4,
 "nbformat_minor": 4
}
